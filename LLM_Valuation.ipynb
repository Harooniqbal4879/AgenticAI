{
  "cells": [
    {
      "cell_type": "markdown",
      "metadata": {
        "id": "view-in-github",
        "colab_type": "text"
      },
      "source": [
        "<a href=\"https://colab.research.google.com/github/Harooniqbal4879/AgenticAI/blob/main/LLM_Valuation.ipynb\" target=\"_parent\"><img src=\"https://colab.research.google.com/assets/colab-badge.svg\" alt=\"Open In Colab\"/></a>"
      ]
    },
    {
      "cell_type": "markdown",
      "id": "64a85daf",
      "metadata": {
        "id": "64a85daf"
      },
      "source": [
        "# 🧪 LLM Judge Homework: Step-by-Step Evaluation\n",
        "In this assignment, you'll incrementally build an LLM-based judge to compare two summaries.\n",
        "\n",
        "You'll go through the following steps:\n",
        "1. Base judgment: which is better overall?\n",
        "2. Add rubric: accuracy, coverage, clarity\n",
        "3. Add explanations per rubric\n",
        "4. Add chain-of-thought reasoning"
      ]
    },
    {
      "cell_type": "code",
      "execution_count": null,
      "id": "f55c5daf",
      "metadata": {
        "colab": {
          "base_uri": "https://localhost:8080/"
        },
        "id": "f55c5daf",
        "outputId": "679647fb-4c63-417a-d262-99bb32e1c5f5"
      },
      "outputs": [
        {
          "output_type": "stream",
          "name": "stdout",
          "text": [
            "Requirement already satisfied: openai in /usr/local/lib/python3.11/dist-packages (1.93.3)\n",
            "Requirement already satisfied: anyio<5,>=3.5.0 in /usr/local/lib/python3.11/dist-packages (from openai) (4.9.0)\n",
            "Requirement already satisfied: distro<2,>=1.7.0 in /usr/local/lib/python3.11/dist-packages (from openai) (1.9.0)\n",
            "Requirement already satisfied: httpx<1,>=0.23.0 in /usr/local/lib/python3.11/dist-packages (from openai) (0.28.1)\n",
            "Requirement already satisfied: jiter<1,>=0.4.0 in /usr/local/lib/python3.11/dist-packages (from openai) (0.10.0)\n",
            "Requirement already satisfied: pydantic<3,>=1.9.0 in /usr/local/lib/python3.11/dist-packages (from openai) (2.11.7)\n",
            "Requirement already satisfied: sniffio in /usr/local/lib/python3.11/dist-packages (from openai) (1.3.1)\n",
            "Requirement already satisfied: tqdm>4 in /usr/local/lib/python3.11/dist-packages (from openai) (4.67.1)\n",
            "Requirement already satisfied: typing-extensions<5,>=4.11 in /usr/local/lib/python3.11/dist-packages (from openai) (4.14.1)\n",
            "Requirement already satisfied: idna>=2.8 in /usr/local/lib/python3.11/dist-packages (from anyio<5,>=3.5.0->openai) (3.10)\n",
            "Requirement already satisfied: certifi in /usr/local/lib/python3.11/dist-packages (from httpx<1,>=0.23.0->openai) (2025.7.9)\n",
            "Requirement already satisfied: httpcore==1.* in /usr/local/lib/python3.11/dist-packages (from httpx<1,>=0.23.0->openai) (1.0.9)\n",
            "Requirement already satisfied: h11>=0.16 in /usr/local/lib/python3.11/dist-packages (from httpcore==1.*->httpx<1,>=0.23.0->openai) (0.16.0)\n",
            "Requirement already satisfied: annotated-types>=0.6.0 in /usr/local/lib/python3.11/dist-packages (from pydantic<3,>=1.9.0->openai) (0.7.0)\n",
            "Requirement already satisfied: pydantic-core==2.33.2 in /usr/local/lib/python3.11/dist-packages (from pydantic<3,>=1.9.0->openai) (2.33.2)\n",
            "Requirement already satisfied: typing-inspection>=0.4.0 in /usr/local/lib/python3.11/dist-packages (from pydantic<3,>=1.9.0->openai) (0.4.1)\n"
          ]
        }
      ],
      "source": [
        "!pip install openai"
      ]
    },
    {
      "cell_type": "code",
      "execution_count": null,
      "id": "868d58bf",
      "metadata": {
        "colab": {
          "base_uri": "https://localhost:8080/"
        },
        "id": "868d58bf",
        "outputId": "183ddd92-20f1-446d-da19-c5dece81b5cc"
      },
      "outputs": [
        {
          "name": "stdout",
          "output_type": "stream",
          "text": [
            "Enter your OpenAI API key: ··········\n"
          ]
        }
      ],
      "source": [
        "import openai\n",
        "from getpass import getpass\n",
        "openai.api_key = getpass('Enter your OpenAI API key: ')\n",
        "client = openai.OpenAI(api_key=openai.api_key)"
      ]
    },
    {
      "cell_type": "markdown",
      "id": "88d3c78d",
      "metadata": {
        "id": "88d3c78d"
      },
      "source": [
        "## 🧾 Example Set"
      ]
    },
    {
      "cell_type": "code",
      "execution_count": null,
      "id": "c8a107eb",
      "metadata": {
        "id": "c8a107eb"
      },
      "outputs": [],
      "source": [
        "examples = [\n",
        "    {\n",
        "        \"id\": \"ex1\",\n",
        "        \"context\": \"The UN released a report warning of global temperature rise and called for urgent international action.\",\n",
        "        \"summary_a\": \"The UN warned that climate change is worsening and action is needed.\",\n",
        "        \"summary_b\": \"The UN praised global progress in reducing emissions.\"\n",
        "    },\n",
        "    {\n",
        "        \"id\": \"ex2\",\n",
        "        \"context\": \"NASA launched Artemis I, an uncrewed spacecraft that will orbit the Moon and return to Earth, preparing for human missions.\",\n",
        "        \"summary_a\": \"NASA launched Artemis I to prepare for future Moon missions.\",\n",
        "        \"summary_b\": \"NASA's Artemis I failed to launch due to engine problems.\"\n",
        "    },\n",
        "    {\n",
        "        \"id\": \"ex3\",\n",
        "        \"context\": \"A study found intermittent fasting improves blood sugar and cholesterol levels.\",\n",
        "        \"summary_a\": \"Intermittent fasting improves health markers like blood sugar and cholesterol.\",\n",
        "        \"summary_b\": \"Fasting was linked to poor nutrition and increased blood pressure.\"\n",
        "    }\n",
        "]"
      ]
    },
    {
      "cell_type": "markdown",
      "id": "8c71eb8e",
      "metadata": {
        "id": "8c71eb8e"
      },
      "source": [
        "## 🔹 Step 1: Base Judgment – A or B?\n",
        "No rubric, just pick the better one and explain."
      ]
    },
    {
      "cell_type": "code",
      "execution_count": null,
      "id": "b8b653f3",
      "metadata": {
        "id": "b8b653f3"
      },
      "outputs": [],
      "source": [
        "def judge_base(context, summary_a, summary_b,client):\n",
        "    prompt = f'''\n",
        "You're evaluating two summaries of an article.\n",
        "\n",
        "Article:\n",
        "\\\"\\\"\\\"{context}\\\"\\\"\\\"\n",
        "\n",
        "Summary A:\n",
        "\\\"\\\"\\\"{summary_a}\\\"\\\"\\\"\n",
        "\n",
        "Summary B:\n",
        "\\\"\\\"\\\"{summary_b}\\\"\\\"\\\"\n",
        "\n",
        "Which one is better and why? Reply in JSON:\n",
        "{{\n",
        "  \"final_answer\": \"A\" or \"B\",\n",
        "  \"explanation\": \"...\"\n",
        "}}\n",
        "'''\n",
        "    response = client.chat.completions.create(\n",
        "        model=\"gpt-4o\",\n",
        "        messages=[{\"role\": \"user\", \"content\": prompt}]\n",
        "    )\n",
        "    return response.choices[0].message.content\n"
      ]
    },
    {
      "cell_type": "code",
      "execution_count": null,
      "id": "9741f99a",
      "metadata": {
        "id": "9741f99a"
      },
      "outputs": [],
      "source": [
        "import json\n",
        "def run_judge_base(client):\n",
        "    print(\"Running Step 1: Base Judgment\")\n",
        "    for ex in examples:\n",
        "        result = judge_base(ex['context'], ex['summary_a'], ex['summary_b'],client)\n",
        "        print(result)\n",
        "\n",
        "run_judge_base(client)"
      ]
    },
    {
      "cell_type": "markdown",
      "id": "880f81b4",
      "metadata": {
        "id": "880f81b4"
      },
      "source": [
        "## 🔹 Step 2: Add Rubric Dimensions – Accuracy, Coverage, Clarity"
      ]
    },
    {
      "cell_type": "code",
      "execution_count": null,
      "id": "daea009c",
      "metadata": {
        "id": "daea009c"
      },
      "outputs": [],
      "source": [
        "def judge_with_rubric(context, summary_a, summary_b, client):\n",
        "    prompt = f'''\n",
        "<<YOUR PROMPT HERE>>\n",
        "'''\n",
        "    response = client.chat.completions.create(\n",
        "        model=\"gpt-4o\",\n",
        "        messages=[{\"role\": \"user\", \"content\": prompt}]\n",
        "    )\n",
        "    return response.choices[0].message.content\n"
      ]
    },
    {
      "cell_type": "code",
      "execution_count": null,
      "id": "3986709a",
      "metadata": {
        "id": "3986709a"
      },
      "outputs": [],
      "source": [
        "import json\n",
        "def run_judge_base(client):\n",
        "    print(\"Running Step 1: Base Judgment\")\n",
        "    for ex in examples:\n",
        "        result = judge_with_rubric(ex['context'], ex['summary_a'], ex['summary_b'],client)\n",
        "        print(result)\n",
        "\n",
        "run_judge_base(client)"
      ]
    },
    {
      "cell_type": "markdown",
      "id": "8ea60c8b",
      "metadata": {
        "id": "8ea60c8b"
      },
      "source": [
        "## 🔹 Step 3: Add Explanations per Rubric Dimension and OneShot"
      ]
    },
    {
      "cell_type": "code",
      "execution_count": null,
      "id": "6b7ff02c",
      "metadata": {
        "id": "6b7ff02c"
      },
      "outputs": [],
      "source": [
        "def judge_with_rubric_expl(context, summary_a, summary_b, client):\n",
        "    one_shot = '''\n",
        "<<YOUR ONE_SHOT HERE>>\n",
        "'''\n",
        "\n",
        "    prompt = f'''\n",
        "{one_shot}\n",
        "\n",
        "<<YOUR PROMPT HERE>>\n",
        "\n",
        "}}\n",
        "'''\n",
        "\n",
        "    response = client.chat.completions.create(\n",
        "        model=\"gpt-4o\",\n",
        "        messages=[{\"role\": \"system\", \"content\": \"You are a strict JSON evaluator for summarization quality using rubric dimensions.\"},\n",
        "                  {\"role\": \"user\", \"content\": prompt}]\n",
        "    )\n",
        "    return response.choices[0].message.content.strip()\n"
      ]
    },
    {
      "cell_type": "code",
      "execution_count": null,
      "id": "1f2f3e64",
      "metadata": {
        "id": "1f2f3e64"
      },
      "outputs": [],
      "source": [
        "def run_judge_rubric_expl(client):\n",
        "    print(\"Running Step 3: Rubric + Explanation\")\n",
        "    for ex in examples:\n",
        "        result = judge_with_rubric_expl(ex['context'], ex['summary_a'], ex['summary_b'],client)\n",
        "        print(result)\n",
        "\n",
        "run_judge_rubric_expl(client)\n"
      ]
    },
    {
      "cell_type": "markdown",
      "id": "b6ee5a25",
      "metadata": {
        "id": "b6ee5a25"
      },
      "source": [
        "## 🔹 Step 4: Add Chain-of-Thought Reasoning"
      ]
    },
    {
      "cell_type": "code",
      "execution_count": null,
      "id": "210ad1b6",
      "metadata": {
        "id": "210ad1b6"
      },
      "outputs": [],
      "source": [
        "def judge_chain_of_thought(context, summary_a, summary_b, client):\n",
        "    prompt = f\"\"\"\n",
        "\n",
        "<<YOUR PROMPT HERE>>\n",
        "\n",
        "\"\"\"\n",
        "\n",
        "    response = client.chat.completions.create(\n",
        "        model=\"gpt-4o\",\n",
        "        messages=[\n",
        "            {\"role\": \"system\", \"content\": \"You are a rubric-based evaluator that reasons step-by-step before scoring.\"},\n",
        "            {\"role\": \"user\", \"content\": prompt}\n",
        "        ]\n",
        "    )\n",
        "    return response.choices[0].message.content.strip()\n"
      ]
    },
    {
      "cell_type": "code",
      "execution_count": null,
      "id": "e871f848",
      "metadata": {
        "id": "e871f848"
      },
      "outputs": [],
      "source": [
        "def run_judge_chain_of_thought(client):\n",
        "    print(\"Running Step 4: Chain-of-Thought Judgment\")\n",
        "    for ex in examples:\n",
        "        result = judge_chain_of_thought(ex['context'], ex['summary_a'], ex['summary_b'],client)\n",
        "        print(result)\n",
        "\n",
        "run_judge_chain_of_thought(client)"
      ]
    },
    {
      "cell_type": "code",
      "execution_count": null,
      "id": "688a7626",
      "metadata": {
        "id": "688a7626"
      },
      "outputs": [],
      "source": []
    }
  ],
  "metadata": {
    "kernelspec": {
      "display_name": "vscode",
      "language": "python",
      "name": "python3"
    },
    "language_info": {
      "codemirror_mode": {
        "name": "ipython",
        "version": 3
      },
      "file_extension": ".py",
      "mimetype": "text/x-python",
      "name": "python",
      "nbconvert_exporter": "python",
      "pygments_lexer": "ipython3",
      "version": "3.9.6"
    },
    "colab": {
      "provenance": [],
      "include_colab_link": true
    }
  },
  "nbformat": 4,
  "nbformat_minor": 5
}