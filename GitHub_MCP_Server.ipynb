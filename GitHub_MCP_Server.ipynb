{
  "nbformat": 4,
  "nbformat_minor": 0,
  "metadata": {
    "colab": {
      "provenance": [],
      "authorship_tag": "ABX9TyP0EAbED3zmDHykGeF7a4OJ",
      "include_colab_link": true
    },
    "kernelspec": {
      "name": "python3",
      "display_name": "Python 3"
    },
    "language_info": {
      "name": "python"
    }
  },
  "cells": [
    {
      "cell_type": "markdown",
      "metadata": {
        "id": "view-in-github",
        "colab_type": "text"
      },
      "source": [
        "<a href=\"https://colab.research.google.com/github/Harooniqbal4879/AgenticAI/blob/main/GitHub_MCP_Server.ipynb\" target=\"_parent\"><img src=\"https://colab.research.google.com/assets/colab-badge.svg\" alt=\"Open In Colab\"/></a>"
      ]
    },
    {
      "cell_type": "markdown",
      "source": [
        "# GitHub MCP Server - AI-Enabled with GitHub API + Flask\n"
      ],
      "metadata": {
        "id": "0oFsM4NjnPQ1"
      }
    },
    {
      "cell_type": "code",
      "source": [
        "# 1️. Install Dependencies\n",
        "!pip install -q flask flask-ngrok openai requests"
      ],
      "metadata": {
        "id": "Fh7bqG4WnzE0"
      },
      "execution_count": null,
      "outputs": []
    },
    {
      "cell_type": "code",
      "source": [
        "# 2️. Import Libraries\n",
        "import os\n",
        "import openai\n",
        "import requests\n",
        "from flask import Flask, request, jsonify\n",
        "from flask_ngrok import run_with_ngrok"
      ],
      "metadata": {
        "id": "yZBpr28jn0zc"
      },
      "execution_count": null,
      "outputs": []
    },
    {
      "cell_type": "code",
      "source": [
        "# 3️. Set API Keys\n",
        "openai.api_key = \"sk-...\"  #  Replace with your OpenAI API key\n",
        "GITHUB_TOKEN = \"ghp_...\"   #  Replace with your GitHub personal access token"
      ],
      "metadata": {
        "id": "kG2sIx58n1IZ"
      },
      "execution_count": null,
      "outputs": []
    },
    {
      "cell_type": "code",
      "source": [
        "# 4️. GitHub Utility Function: Search and Fetch Code from Repo\n",
        "def search_code_in_repo(repo, query, file_ext=\"py\"):\n",
        "    url = f\"https://api.github.com/search/code?q={query}+in:file+repo:{repo}+extension:{file_ext}\"\n",
        "    headers = {\"Authorization\": f\"token {GITHUB_TOKEN}\"}\n",
        "    response = requests.get(url, headers=headers)\n",
        "    if response.status_code == 200:\n",
        "        items = response.json().get(\"items\", [])\n",
        "        results = [{\"name\": item[\"name\"], \"path\": item[\"path\"], \"url\": item[\"html_url\"]} for item in items]\n",
        "        return results\n",
        "    else:\n",
        "        return {\"error\": f\"GitHub API error: {response.status_code}\"}"
      ],
      "metadata": {
        "id": "-F3MUJYqoLws"
      },
      "execution_count": null,
      "outputs": []
    },
    {
      "cell_type": "code",
      "source": [
        "# 5️. Optional: AI Enhancement via OpenAI GPT\n",
        "def summarize_file_list(file_list):\n",
        "    prompt = \"Summarize these code files:\\n\" + \"\\n\".join([f\"{f['name']}: {f['url']}\" for f in file_list])\n",
        "    response = openai.ChatCompletion.create(\n",
        "        model=\"gpt-3.5-turbo\", messages=[{\"role\": \"user\", \"content\": prompt}]\n",
        "    )\n",
        "    return response['choices'][0]['message']['content']"
      ],
      "metadata": {
        "id": "IxUSCTkDoL-R"
      },
      "execution_count": null,
      "outputs": []
    },
    {
      "cell_type": "code",
      "source": [
        "# 6️. Create MCP Server API\n",
        "app = Flask(__name__)\n",
        "run_with_ngrok(app)\n",
        "\n",
        "@app.route(\"/mcp/github-code-query\", methods=[\"POST\"])\n",
        "def handle_github_mcp_request():\n",
        "    data = request.get_json()\n",
        "    repo = data.get(\"repo\")\n",
        "    keyword = data.get(\"query\")\n",
        "\n",
        "    files = search_code_in_repo(repo, keyword)\n",
        "    summary = summarize_file_list(files) if isinstance(files, list) else files\n",
        "\n",
        "    return jsonify({\n",
        "        \"repo\": repo,\n",
        "        \"query\": keyword,\n",
        "        \"results\": files,\n",
        "        \"summary\": summary\n",
        "    })"
      ],
      "metadata": {
        "id": "5tumhbuioMNG"
      },
      "execution_count": null,
      "outputs": []
    },
    {
      "cell_type": "code",
      "execution_count": null,
      "metadata": {
        "id": "9QOxfdInnMqc"
      },
      "outputs": [],
      "source": [
        "# Launch the MCP GitHub Server\n",
        "app.run()\n"
      ]
    }
  ]
}