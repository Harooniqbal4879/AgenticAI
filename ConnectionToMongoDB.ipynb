{
  "nbformat": 4,
  "nbformat_minor": 0,
  "metadata": {
    "colab": {
      "provenance": [],
      "authorship_tag": "ABX9TyMfaAakqNozAv6zx5Oj6uNM",
      "include_colab_link": true
    },
    "kernelspec": {
      "name": "python3",
      "display_name": "Python 3"
    },
    "language_info": {
      "name": "python"
    }
  },
  "cells": [
    {
      "cell_type": "markdown",
      "metadata": {
        "id": "view-in-github",
        "colab_type": "text"
      },
      "source": [
        "<a href=\"https://colab.research.google.com/github/Harooniqbal4879/AgenticAI/blob/main/ConnectionToMongoDB.ipynb\" target=\"_parent\"><img src=\"https://colab.research.google.com/assets/colab-badge.svg\" alt=\"Open In Colab\"/></a>"
      ]
    },
    {
      "cell_type": "code",
      "execution_count": null,
      "metadata": {
        "id": "OCONnRlccbLk"
      },
      "outputs": [],
      "source": [
        "from pymongo import MongoClient\n",
        "from pymongo.server_api import ServerApi\n",
        "\n",
        "import os\n",
        "import certifi\n",
        "\n",
        "\n",
        "connection_string = os.getenv(\"MONGODB_URI\")\n",
        "\n",
        "client = MongoClient(\n",
        "    connection_string, server_api=ServerApi(\"1\"), tlsCAFile=certifi.where()\n",
        ")\n",
        "\n",
        "client.admin.command(\"ping\")\n",
        "\n",
        "print(\"Successfully connected to MongoDB Atlas!\")\n",
        "\n",
        "\n",
        "db = client[\"sample_mflix\"]\n",
        "collection = db[\"movies\"]\n",
        "\n",
        "total_documents = collection.count_documents({})\n",
        "print(f\"Total documents: {total_documents}\")\n",
        "\n",
        "\n",
        "nolan_movies = []\n",
        "\n",
        "for movie in collection.find({\"directors\": \"Christopher Nolan\"}):\n",
        "    nolan_movies.append(movie)\n",
        "\n",
        "\n",
        "print(\"Nolan Movies\")\n",
        "\n",
        "print(nolan_movies)\n",
        "\n",
        "for movie in nolan_movies:\n",
        "    print(movie[\"title\"])"
      ]
    },
    {
      "cell_type": "code",
      "metadata": {
        "colab": {
          "base_uri": "https://localhost:8080/"
        },
        "id": "ecc635b7",
        "outputId": "99f1cf07-c1fe-4b06-e579-8b64b27eaeb1"
      },
      "source": [
        "%pip install pymongo certifi"
      ],
      "execution_count": 2,
      "outputs": [
        {
          "output_type": "stream",
          "name": "stdout",
          "text": [
            "Collecting pymongo\n",
            "  Downloading pymongo-4.13.2-cp311-cp311-manylinux_2_17_x86_64.manylinux2014_x86_64.whl.metadata (22 kB)\n",
            "Requirement already satisfied: certifi in /usr/local/lib/python3.11/dist-packages (2025.6.15)\n",
            "Collecting dnspython<3.0.0,>=1.16.0 (from pymongo)\n",
            "  Downloading dnspython-2.7.0-py3-none-any.whl.metadata (5.8 kB)\n",
            "Downloading pymongo-4.13.2-cp311-cp311-manylinux_2_17_x86_64.manylinux2014_x86_64.whl (1.4 MB)\n",
            "\u001b[2K   \u001b[90m━━━━━━━━━━━━━━━━━━━━━━━━━━━━━━━━━━━━━━━━\u001b[0m \u001b[32m1.4/1.4 MB\u001b[0m \u001b[31m47.1 MB/s\u001b[0m eta \u001b[36m0:00:00\u001b[0m\n",
            "\u001b[?25hDownloading dnspython-2.7.0-py3-none-any.whl (313 kB)\n",
            "\u001b[2K   \u001b[90m━━━━━━━━━━━━━━━━━━━━━━━━━━━━━━━━━━━━━━━━\u001b[0m \u001b[32m313.6/313.6 kB\u001b[0m \u001b[31m20.8 MB/s\u001b[0m eta \u001b[36m0:00:00\u001b[0m\n",
            "\u001b[?25hInstalling collected packages: dnspython, pymongo\n",
            "Successfully installed dnspython-2.7.0 pymongo-4.13.2\n"
          ]
        }
      ]
    }
  ]
}