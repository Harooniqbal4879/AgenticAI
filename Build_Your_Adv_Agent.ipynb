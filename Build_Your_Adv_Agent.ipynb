{
  "cells": [
    {
      "cell_type": "markdown",
      "metadata": {
        "id": "view-in-github",
        "colab_type": "text"
      },
      "source": [
        "<a href=\"https://colab.research.google.com/github/Harooniqbal4879/AgenticAI/blob/main/Build_Your_Adv_Agent.ipynb\" target=\"_parent\"><img src=\"https://colab.research.google.com/assets/colab-badge.svg\" alt=\"Open In Colab\"/></a>"
      ]
    },
    {
      "cell_type": "markdown",
      "metadata": {
        "id": "es_i-SjubzsV"
      },
      "source": [
        "# **Introduction to LangGraph**"
      ]
    },
    {
      "cell_type": "markdown",
      "metadata": {
        "id": "-4cecISYb6mx"
      },
      "source": [
        "\n",
        "\n",
        "Welcome! In this warm-up you’ll the key concepts of **LangGraph**.  \n",
        "\n",
        "By the end you can:\n",
        "\n",
        "| You will be able to… | Why it matters |\n",
        "| --- | --- |\n",
        "| Explain the parts of a `StateGraph` | All LangGraph projects share these building blocks |\n",
        "| Write & connect multiple agents | Real-world apps chain specialised LLM tools |\n",
        "| Inspect state as it flows | Debugging & observability are key |\n",
        "\n",
        "---\n",
        "\n",
        "### 📖 Table of Contents  \n",
        "1. [Install dependencies](#install)  \n",
        "2. [Define shared state](#state)  \n",
        "3. [Create three agents](#agents)  \n",
        "4. [Build the graph](#graph)  \n",
        "5. [Run & inspect](#run)  \n",
        "6. [Next steps](#next)\n"
      ]
    },
    {
      "cell_type": "markdown",
      "metadata": {
        "id": "Y5vCNxFSPv5S"
      },
      "source": [
        "<a id=\"install\"></a>\n",
        "## Step 1  — Install Dependencies\n",
        "\n",
        "We need **LangGraph** for orchestration and **LangChain** for helper classes.  \n",
        "Run the cell below, then **restart the kernel** so the new packages load cleanly.\n"
      ]
    },
    {
      "cell_type": "code",
      "execution_count": null,
      "metadata": {
        "colab": {
          "base_uri": "https://localhost:8080/"
        },
        "id": "G_CuCuuldPSn",
        "outputId": "3812762d-95a3-4701-e300-94871e9aa7d1"
      },
      "outputs": [
        {
          "name": "stdout",
          "output_type": "stream",
          "text": [
            "\u001b[2K     \u001b[90m━━━━━━━━━━━━━━━━━━━━━━━━━━━━━━━━━━━━━━━\u001b[0m \u001b[32m43.7/43.7 kB\u001b[0m \u001b[31m670.4 kB/s\u001b[0m eta \u001b[36m0:00:00\u001b[0m\n",
            "\u001b[2K   \u001b[90m━━━━━━━━━━━━━━━━━━━━━━━━━━━━━━━━━━━━━━━━\u001b[0m \u001b[32m152.4/152.4 kB\u001b[0m \u001b[31m3.6 MB/s\u001b[0m eta \u001b[36m0:00:00\u001b[0m\n",
            "\u001b[2K   \u001b[90m━━━━━━━━━━━━━━━━━━━━━━━━━━━━━━━━━━━━━━━━\u001b[0m \u001b[32m44.2/44.2 kB\u001b[0m \u001b[31m2.2 MB/s\u001b[0m eta \u001b[36m0:00:00\u001b[0m\n",
            "\u001b[2K   \u001b[90m━━━━━━━━━━━━━━━━━━━━━━━━━━━━━━━━━━━━━━━━\u001b[0m \u001b[32m50.0/50.0 kB\u001b[0m \u001b[31m2.2 MB/s\u001b[0m eta \u001b[36m0:00:00\u001b[0m\n",
            "\u001b[2K   \u001b[90m━━━━━━━━━━━━━━━━━━━━━━━━━━━━━━━━━━━━━━━━\u001b[0m \u001b[32m216.5/216.5 kB\u001b[0m \u001b[31m6.8 MB/s\u001b[0m eta \u001b[36m0:00:00\u001b[0m\n",
            "\u001b[?25h"
          ]
        }
      ],
      "source": [
        "!pip install -q --upgrade langgraph langchain  # ! not bare ‘pip’ for Jupyter"
      ]
    },
    {
      "cell_type": "markdown",
      "metadata": {
        "id": "BdV4-3Zxc8By"
      },
      "source": [
        "## Step 2  — Define the Shared State\n",
        "\n",
        "The **state** is a single `TypedDict` that every agent can **read** and **update**  \n",
        "— think of it as a strongly-typed, mutable “whiteboard”."
      ]
    },
    {
      "cell_type": "code",
      "execution_count": null,
      "metadata": {
        "id": "83rVpGWYdTnd"
      },
      "outputs": [],
      "source": [
        "from typing import TypedDict\n",
        "\n",
        "class TravelState(TypedDict, total=False):\n",
        "    user_input: str          # raw question\n",
        "    destination: str         # “Bali”, “Manali”, …\n",
        "    itinerary: str           # multi-day plan\n",
        "    activities: str          # granular activities"
      ]
    },
    {
      "cell_type": "markdown",
      "metadata": {
        "id": "MOv1oHJRdqg5"
      },
      "source": [
        "## Step 3  — Create Three Simple Agents\n",
        "\n",
        "| Agent | Responsibility |\n",
        "| --- | --- |\n",
        "| `destination_agent` | Choose a place that matches the user’s intent |\n",
        "| `itinerary_agent` | Draft a rough, three-day itinerary |\n",
        "| `activity_agent` | Suggest activities fitting that place |\n",
        "\n",
        "Each agent is an ordinary Python function that takes `TravelState` ➜ returns an **updated** `TravelState`.\n"
      ]
    },
    {
      "cell_type": "code",
      "execution_count": null,
      "metadata": {
        "id": "NdccLkcwdw7k"
      },
      "outputs": [],
      "source": [
        "def destination_agent(state: TravelState) -> TravelState:\n",
        "    print(\"🔧 destination_agent running…\")\n",
        "    q = state.get(\"user_input\", \"\").lower()\n",
        "\n",
        "    if \"beach\" in q:\n",
        "        dest = \"Bali\"\n",
        "    elif \"snow\" in q or \"mountain\" in q:\n",
        "        dest = \"Manali\"\n",
        "    else:\n",
        "        dest = \"Kyoto\"  # sensible default\n",
        "\n",
        "    print(f\"🌍 Suggested destination: {dest}\")\n",
        "    return {**state, \"destination\": dest}"
      ]
    },
    {
      "cell_type": "code",
      "execution_count": null,
      "metadata": {
        "id": "_y-hwsvbd5tI"
      },
      "outputs": [],
      "source": [
        "def itinerary_agent(state: TravelState) -> TravelState:\n",
        "    print(\"🔧 itinerary_agent running…\")\n",
        "    dest = state[\"destination\"]\n",
        "    plan = (\n",
        "        f\"Day 1: Arrive in {dest}\\n\"\n",
        "        f\"Day 2: Explore iconic spots in {dest}\\n\"\n",
        "        f\"Day 3: Relax + sample local cuisine\"\n",
        "    )\n",
        "    print(f\"🧳 Draft itinerary:\\n{plan}\")\n",
        "    return {**state, \"itinerary\": plan}"
      ]
    },
    {
      "cell_type": "code",
      "execution_count": null,
      "metadata": {
        "id": "WUvAMWoyd86Z"
      },
      "outputs": [],
      "source": [
        "def activity_agent(state: TravelState) -> TravelState:\n",
        "    print(\"🔧 activity_agent running…\")\n",
        "    dest = state[\"destination\"]\n",
        "    act = (\n",
        "        \"Snorkelling • Beach yoga\"\n",
        "        if dest == \"Bali\"\n",
        "        else \"Skiing • Mountain trek\"\n",
        "    )\n",
        "    print(f\"🎯 Suggested activities: {act}\")\n",
        "    return {**state, \"activities\": act}"
      ]
    },
    {
      "cell_type": "markdown",
      "metadata": {
        "id": "CnGYwjANej8u"
      },
      "source": [
        "## Step 4  — Build the LangGraph Workflow\n",
        "\n",
        "A `StateGraph` wires **nodes** (our agents) with **edges** (execution order).  \n",
        "Below we:\n",
        "\n",
        "1. add each agent as a node  \n",
        "2. set the entry & finish points  \n",
        "3. connect the nodes in series  \n",
        "4. compile to an executable graph\n"
      ]
    },
    {
      "cell_type": "code",
      "execution_count": null,
      "metadata": {
        "colab": {
          "base_uri": "https://localhost:8080/"
        },
        "id": "qJgZ2VCielx2",
        "outputId": "14d1498b-b982-4cd1-da0a-81682d0d8c27"
      },
      "outputs": [
        {
          "name": "stdout",
          "output_type": "stream",
          "text": [
            "✅ Graph compiled.\n"
          ]
        }
      ],
      "source": [
        "from langgraph.graph import StateGraph\n",
        "\n",
        "builder = StateGraph(TravelState)\n",
        "\n",
        "builder.add_node(\"destination_agent\", destination_agent)\n",
        "builder.add_node(\"itinerary_agent\", itinerary_agent)\n",
        "builder.add_node(\"activity_agent\", activity_agent)\n",
        "\n",
        "builder.set_entry_point(\"destination_agent\")\n",
        "builder.add_edge(\"destination_agent\", \"itinerary_agent\")\n",
        "builder.add_edge(\"itinerary_agent\", \"activity_agent\")\n",
        "builder.set_finish_point(\"activity_agent\")\n",
        "\n",
        "travel_graph = builder.compile()\n",
        "print(\"✅ Graph compiled.\")"
      ]
    },
    {
      "cell_type": "code",
      "execution_count": null,
      "metadata": {
        "colab": {
          "base_uri": "https://localhost:8080/",
          "height": 449
        },
        "id": "YpSBHM_YfPoL",
        "outputId": "dfac2f4d-d970-474e-d305-cba3eb500a92"
      },
      "outputs": [
        {
          "data": {
            "image/png": "[encoded data removed]",
            "text/plain": [
              "<IPython.core.display.Image object>"
            ]
          },
          "metadata": {},
          "output_type": "display_data"
        }
      ],
      "source": [
        "from IPython.display import Image, display\n",
        "\n",
        "display(Image(travel_graph.get_graph().draw_mermaid_png()))"
      ]
    },
    {
      "cell_type": "markdown",
      "metadata": {
        "id": "d5OXniGFfs18"
      },
      "source": [
        "## Step 5  — Run & Inspect\n",
        "\n",
        "Let’s invoke the graph with a sample query and watch the logged output."
      ]
    },
    {
      "cell_type": "code",
      "execution_count": null,
      "metadata": {
        "colab": {
          "base_uri": "https://localhost:8080/"
        },
        "id": "iEa6Bot3fz52",
        "outputId": "d2582e1a-dd49-4a4d-d545-6d892d7dfe76"
      },
      "outputs": [
        {
          "name": "stdout",
          "output_type": "stream",
          "text": [
            "🔧 destination_agent running…\n",
            "🌍 Suggested destination: Bali\n",
            "🔧 itinerary_agent running…\n",
            "🧳 Draft itinerary:\n",
            "Day 1: Arrive in Bali\n",
            "Day 2: Explore iconic spots in Bali\n",
            "Day 3: Relax + sample local cuisine\n",
            "🔧 activity_agent running…\n",
            "🎯 Suggested activities: Snorkelling • Beach yoga\n",
            "\n",
            "🏁 Final state:\n",
            "user_input: I want a relaxing beach vacation\n",
            "destination: Bali\n",
            "itinerary: Day 1: Arrive in Bali\n",
            "Day 2: Explore iconic spots in Bali\n",
            "Day 3: Relax + sample local cuisine\n",
            "activities: Snorkelling • Beach yoga\n"
          ]
        }
      ],
      "source": [
        "initial_state: TravelState = {\n",
        "    \"user_input\": \"I want a relaxing beach vacation\"\n",
        "}\n",
        "\n",
        "final_state = travel_graph.invoke(initial_state)\n",
        "\n",
        "print(\"\\n🏁 Final state:\")\n",
        "for k, v in final_state.items():\n",
        "    print(f\"{k}: {v}\")"
      ]
    },
    {
      "cell_type": "markdown",
      "metadata": {
        "id": "7T3exP6VgGAm"
      },
      "source": [
        "## 🔬 Understanding State Transitions\n",
        "\n",
        "Below is a condensed view of how the state mutated:\n",
        "\n",
        "| After node | `destination` | `itinerary` | `activities` |\n",
        "| --- | --- | --- | --- |\n",
        "| **initial** | — | — | — |\n",
        "| `destination_agent` | ✅ | — | — |\n",
        "| `itinerary_agent` | ✅ | ✅ | — |\n",
        "| `activity_agent` | ✅ | ✅ | ✅ |\n",
        "\n",
        "Each agent **adds** to (or updates) the same `TravelState` object — no hidden globals.\n"
      ]
    },
    {
      "cell_type": "markdown",
      "metadata": {
        "id": "pl2LndBSgPKj"
      },
      "source": [
        "## ✏️ Your Turn  — Get Your Hands Dirty\n",
        "\n",
        "1. **Snow scenario** — Change the input to “I want a snowy mountain retreat” and re-run.  \n",
        "   *What destination, itinerary, and activities do you get?*\n",
        "\n",
        "2. **Branching logic** — Extend `destination_agent` to detect “city break” and route to **Paris**, then tweak `itinerary_agent` accordingly.\n",
        "\n",
        "*(Feel free to add extra cells beneath this one.)*\n"
      ]
    },
    {
      "cell_type": "code",
      "execution_count": null,
      "metadata": {
        "id": "x7a3WxEDg3-b"
      },
      "outputs": [],
      "source": []
    },
    {
      "cell_type": "code",
      "execution_count": null,
      "metadata": {
        "id": "CH-hjEIyg4ch"
      },
      "outputs": [],
      "source": []
    },
    {
      "cell_type": "markdown",
      "metadata": {
        "id": "_tcOs7zmg5JL"
      },
      "source": [
        "# **Build a Multi-Agent System**\n",
        "\n",
        "\n",
        "\n",
        "\n",
        "\n",
        "## Our Learning Path\n",
        "\n",
        "\n",
        "| Step | Focus Area             | Description                                     |\n",
        "|------|------------------------|-------------------------------------------------|\n",
        "| 1️⃣   | Simple Agent           | Start by creating a basic LLM-powered agent     |\n",
        "| 2️⃣   |  Multi-Agent System   |  Combine multiple agents using LangGraph    |\n",
        "| 3️⃣   |  + Short-Term Memory   | Enhance the agent with session-level memory       |\n",
        "\n",
        "\n",
        "\n"
      ]
    },
    {
      "cell_type": "markdown",
      "metadata": {
        "id": "291r_IMkjWw8"
      },
      "source": [
        "## Step 1 — Setup & Imports\n",
        "\n",
        "\n",
        "Before we dive into building agents, let's set up our development environment. We'll be using:\n",
        "\n",
        "- **Google Gemini**: Our powerful LLM for natural language understanding\n",
        "- **LangGraph**: Framework for building stateful, multi-agent workflows\n",
        "- **LangChain**: Tools for LLM application development\n",
        "\n",
        "### Why These Tools?\n",
        "\n",
        "- **Gemini**: Fast, cost-effective, and excellent for conversational AI\n",
        "- **LangGraph**: Perfect for complex workflows with multiple agents\n",
        "- **Environment Variables**: Secure way to handle API keys\n"
      ]
    },
    {
      "cell_type": "code",
      "execution_count": null,
      "metadata": {
        "colab": {
          "base_uri": "https://localhost:8080/"
        },
        "id": "ZPMKQitpjYp-",
        "outputId": "6b3209fb-82c4-4ce3-8c81-4641904a0729"
      },
      "outputs": [
        {
          "name": "stdout",
          "output_type": "stream",
          "text": [
            "\u001b[?25l   \u001b[90m━━━━━━━━━━━━━━━━━━━━━━━━━━━━━━━━━━━━━━━━\u001b[0m \u001b[32m0.0/1.3 MB\u001b[0m \u001b[31m?\u001b[0m eta \u001b[36m-:--:--\u001b[0m\r\u001b[2K   \u001b[91m━━━━\u001b[0m\u001b[91m╸\u001b[0m\u001b[90m━━━━━━━━━━━━━━━━━━━━━━━━━━━━━━━━━━━\u001b[0m \u001b[32m0.2/1.3 MB\u001b[0m \u001b[31m4.6 MB/s\u001b[0m eta \u001b[36m0:00:01\u001b[0m\r\u001b[2K   \u001b[91m━━━━━━━━━━━━━━━━━━━━━━━━━━━━━━━━━━━━━━━\u001b[0m\u001b[91m╸\u001b[0m \u001b[32m1.3/1.3 MB\u001b[0m \u001b[31m19.1 MB/s\u001b[0m eta \u001b[36m0:00:01\u001b[0m\r\u001b[2K   \u001b[90m━━━━━━━━━━━━━━━━━━━━━━━━━━━━━━━━━━━━━━━━\u001b[0m \u001b[32m1.3/1.3 MB\u001b[0m \u001b[31m14.8 MB/s\u001b[0m eta \u001b[36m0:00:00\u001b[0m\n",
            "\u001b[?25h\u001b[31mERROR: pip's dependency resolver does not currently take into account all the packages that are installed. This behaviour is the source of the following dependency conflicts.\n",
            "langchain-google-genai 2.1.5 requires google-ai-generativelanguage<0.7.0,>=0.6.18, but you have google-ai-generativelanguage 0.6.15 which is incompatible.\u001b[0m\u001b[31m\n",
            "\u001b[0m\u001b[31mERROR: pip's dependency resolver does not currently take into account all the packages that are installed. This behaviour is the source of the following dependency conflicts.\n",
            "google-generativeai 0.8.5 requires google-ai-generativelanguage==0.6.15, but you have google-ai-generativelanguage 0.6.18 which is incompatible.\u001b[0m\u001b[31m\n",
            "\u001b[0m"
          ]
        }
      ],
      "source": [
        "# Install packages (run in terminal or uncomment)\n",
        "!pip install -q google-generativeai==0.8.5 google-ai-generativelanguage==0.6.15\n",
        "!pip install -q langchain-google-genai langgraph python-dotenv"
      ]
    },
    {
      "cell_type": "code",
      "execution_count": null,
      "metadata": {
        "id": "uYA1BH64diJN"
      },
      "outputs": [],
      "source": [
        "!pip install -q langchain"
      ]
    },
    {
      "cell_type": "markdown",
      "metadata": {
        "id": "wFLtx89yqtjx"
      },
      "source": [
        "#### **Set Up API Key for Google AI Studio**\n",
        "\n",
        "Follow these steps to create and configure your API key for using Google’s AI services (like Gemini):\n",
        "\n",
        "---\n",
        "\n",
        "##### 1. Visit the API Key Page\n",
        "\n",
        "Open the following link in your browser:\n",
        "\n",
        "👉 [https://aistudio.google.com/apikey](https://aistudio.google.com/apikey)\n",
        "\n",
        "---\n",
        "\n",
        "##### 2. Create an API Key\n",
        "\n",
        "- Sign in with your Google account (if prompted).\n",
        "- Click on **\"Create API Key\"**.\n",
        "- Your API key will be generated — **copy it and keep it secure**.\n",
        "\n",
        "---\n",
        "\n",
        "##### 3. Paste Your API Key in the Cell Below"
      ]
    },
    {
      "cell_type": "code",
      "execution_count": null,
      "metadata": {
        "colab": {
          "base_uri": "https://localhost:8080/"
        },
        "id": "cIvhAk8u7dQw",
        "outputId": "685a5d33-c182-4d8e-c7cf-afb2b2546b17"
      },
      "outputs": [
        {
          "name": "stdout",
          "output_type": "stream",
          "text": [
            "GOOGLE_API_KEY··········\n"
          ]
        }
      ],
      "source": [
        "from dotenv import load_dotenv\n",
        "import os, getpass\n",
        "\n",
        "# Load API key\n",
        "load_dotenv()\n",
        "os.environ[\"GOOGLE_API_KEY\"] = getpass.getpass(\"GOOGLE_API_KEY\")"
      ]
    },
    {
      "cell_type": "code",
      "execution_count": null,
      "metadata": {
        "id": "TyEDp44wkoIX"
      },
      "outputs": [],
      "source": [
        "# Import everything we need\n",
        "import google.generativeai as genai\n",
        "from langchain_google_genai import ChatGoogleGenerativeAI\n",
        "from langchain_core.messages import HumanMessage, AIMessage\n",
        "from langchain_core.output_parsers import StrOutputParser\n",
        "from langchain_core.prompts import ChatPromptTemplate, MessagesPlaceholder\n",
        "from langgraph.graph import StateGraph, END"
      ]
    },
    {
      "cell_type": "markdown",
      "metadata": {
        "id": "EtukKZ95kkp-"
      },
      "source": [
        "## Step 2 — Core LLM Chain\n",
        "\n",
        "We’ll now set up the core LLM using the `ChatGoogleGenerativeAI` class from LangChain (or your preferred wrapper). This model will power our generative AI tasks.\n",
        "\n",
        "\n"
      ]
    },
    {
      "cell_type": "code",
      "execution_count": null,
      "metadata": {
        "id": "Rd-hQukMuH8N"
      },
      "outputs": [],
      "source": [
        "llm = ChatGoogleGenerativeAI(\n",
        "    model=\"gemini-2.0-flash\",\n",
        "    temperature=0.2\n",
        ")"
      ]
    },
    {
      "cell_type": "markdown",
      "metadata": {
        "id": "jWCye9JpB70b"
      },
      "source": [
        "## Step 3 - Create Individual Agents"
      ]
    },
    {
      "cell_type": "markdown",
      "metadata": {
        "id": "olBSvdDhrPsd"
      },
      "source": [
        "### Itenary Agent\n",
        "\n",
        "Helps in planning the full travel itinerary and provides travel-related answers"
      ]
    },
    {
      "cell_type": "code",
      "execution_count": null,
      "metadata": {
        "id": "CT_8pVG2jctY"
      },
      "outputs": [],
      "source": [
        "# Install required libraries for Tavily\n",
        "!pip install -q tavily-python langchain-community"
      ]
    },
    {
      "cell_type": "code",
      "execution_count": null,
      "metadata": {
        "id": "KexeFybNjep1"
      },
      "outputs": [],
      "source": [
        "# Import necessary modules\n",
        "from langchain_core.tools import tool\n",
        "from langchain_core.messages import ToolMessage\n",
        "from typing import TypedDict, Annotated, List, Union\n",
        "import json"
      ]
    },
    {
      "cell_type": "markdown",
      "metadata": {
        "id": "7O7bKyNerr9E"
      },
      "source": [
        "###### Set Up Tavily API Key\n",
        "\n",
        "Tavily provides real-time web search capabilities for LLMs. To use it, you'll need an API key.\n",
        "\n",
        "---\n",
        "\n",
        "##### Get Your Tavily API Key\n",
        "\n",
        "1. Visit the Tavily dashboard:  \n",
        "   👉 [https://app.tavily.com/home](https://app.tavily.com/home)\n",
        "2. Sign in or create an account.\n",
        "3. Go to the **API Keys** section.\n",
        "4. Copy your API key.\n",
        "\n",
        "---\n",
        "\n",
        "##### Enter Your API Key Securely in Colab"
      ]
    },
    {
      "cell_type": "code",
      "execution_count": null,
      "metadata": {
        "colab": {
          "base_uri": "https://localhost:8080/"
        },
        "id": "ks-yGiZijhlL",
        "outputId": "6d1f17a4-7e7d-4f19-a865-1f56328ed3d8"
      },
      "outputs": [
        {
          "name": "stdout",
          "output_type": "stream",
          "text": [
            "TAVILY_API_KEY··········\n"
          ]
        }
      ],
      "source": [
        "# Step 1: Set up Tavily client and API key\n",
        "os.environ[\"TAVILY_API_KEY\"] = getpass.getpass(\"TAVILY_API_KEY\")\n",
        "#tavily_client = TavilyClient(api_key=os.environ[\"TAVILY_API_KEY\"])"
      ]
    },
    {
      "cell_type": "code",
      "execution_count": null,
      "metadata": {
        "id": "tuLXizwEm8yt"
      },
      "outputs": [],
      "source": [
        "# Install or upgrade the LangChain-Tavily integration package silently\n",
        "!pip install -q -U langchain-tavily"
      ]
    },
    {
      "cell_type": "markdown",
      "metadata": {
        "id": "v8F_eppDsKEc"
      },
      "source": [
        "###### Use TavilySearch Tool from LangChain\n",
        "\n",
        "Now that we’ve set up the Tavily API key, we can use the `TavilySearch` tool to perform real-time web searches within LangChain."
      ]
    },
    {
      "cell_type": "code",
      "execution_count": null,
      "metadata": {
        "id": "dvfC9KZhm5af"
      },
      "outputs": [],
      "source": [
        "from langchain_tavily import TavilySearch\n",
        "\n",
        "tool = TavilySearch(max_results=2)\n",
        "tools = [tool]"
      ]
    },
    {
      "cell_type": "code",
      "execution_count": null,
      "metadata": {
        "colab": {
          "base_uri": "https://localhost:8080/"
        },
        "id": "eykpyRTHsP7a",
        "outputId": "1d61c942-4b5f-4a2a-ebc2-99e71118be8e"
      },
      "outputs": [
        {
          "data": {
            "text/plain": [
              "{'query': \"What's a 'node' in LangGraph?\",\n",
              " 'follow_up_questions': None,\n",
              " 'answer': None,\n",
              " 'images': [],\n",
              " 'results': [{'url': 'https://medium.com/@cplog/introduction-to-langgraph-a-beginners-guide-14f9be027141',\n",
              "   'title': \"Introduction to LangGraph: A Beginner's Guide - Medium\",\n",
              "   'content': 'Stateful Graph: LangGraph revolves around the concept of a stateful graph, where each node in the graph represents a step in your computation, and the graph maintains a state that is passed around and updated as the computation progresses. LangGraph supports conditional edges, allowing you to dynamically determine the next node to execute based on the current state of the graph. We define nodes for classifying the input, handling greetings, and handling search queries. def classify_input_node(state): LangGraph is a versatile tool for building complex, stateful applications with LLMs. By understanding its core concepts and working through simple examples, beginners can start to leverage its power for their projects. Remember to pay attention to state management, conditional edges, and ensuring there are no dead-end nodes in your graph.',\n",
              "   'score': 0.7065353,\n",
              "   'raw_content': None},\n",
              "  {'url': 'https://medium.com/@vivekvjnk/langgraph-basics-understanding-state-schema-nodes-and-edges-77f2fd17cae5',\n",
              "   'title': 'LangGraph Basics: Understanding State, Schema, Nodes, and Edges',\n",
              "   'content': 'LangGraph Basics: Understanding State, Schema, Nodes, and Edges | by Story_Teller | Medium LangGraph Basics: Understanding State, Schema, Nodes, and Edges LangGraph Basics: Understanding State, Schema, Nodes, and Edges These predefined structures in the messaging app are synonymous with the schema of the state in LangGraph. Just as a messaging app ensures all interactions (messages) follow a consistent format, the schema in LangGraph ensures the state passed along edges is structured and interpretable. This static schema allows nodes to rely on a consistent state format, ensuring seamless communication along edges throughout the graph. In this article, we explored the foundational concepts of graph-based systems, drawing parallels to familiar messaging applications to illustrate how edges, nodes, and state transitions function seamlessly in dynamic workflows.',\n",
              "   'score': 0.6501347,\n",
              "   'raw_content': None}],\n",
              " 'response_time': 1.67}"
            ]
          },
          "execution_count": 11,
          "metadata": {},
          "output_type": "execute_result"
        }
      ],
      "source": [
        "# Test TavilySearch\n",
        "tool.invoke(\"What's a 'node' in LangGraph?\")"
      ]
    },
    {
      "cell_type": "code",
      "execution_count": null,
      "metadata": {
        "id": "NVCbsAx-kU9c"
      },
      "outputs": [],
      "source": [
        "# itinerary agent prompt to include ReAct reasoning\n",
        "itenary_prompt = ChatPromptTemplate.from_messages([\n",
        "    (\"system\", \"\"\"You are an expert travel itinerary planner. ONLY respond to travel planning and itinerary-related questions.\n",
        "\n",
        "IMPORTANT RULES:\n",
        "- If asked about non-travel topics (weather, math, general questions), politely decline and redirect to travel planning\n",
        "- Always provide complete, well-formatted itineraries with specific details\n",
        "- Include timing, locations, transportation, and practical tips\n",
        "\n",
        "Use the ReAct approach:\n",
        "1. THOUGHT: Analyze what travel information is needed\n",
        "2. ACTION: Search for current information about destinations, attractions, prices, hours\n",
        "3. OBSERVATION: Process the search results\n",
        "4. Provide a comprehensive, formatted response\n",
        "\n",
        "Available tools:\n",
        "- TavilySearch: Search for current travel information\n",
        "\n",
        "Format your itineraries with:\n",
        "- Clear day-by-day breakdown\n",
        "- Specific times and locations\n",
        "- Transportation between locations\n",
        "- Estimated costs when possible\n",
        "- Practical tips and recommendations\"\"\"),\n",
        "    MessagesPlaceholder(variable_name=\"messages\"),\n",
        "])"
      ]
    },
    {
      "cell_type": "code",
      "execution_count": null,
      "metadata": {
        "id": "clqNBoUTkWcO"
      },
      "outputs": [],
      "source": [
        "# Bind tools to the LLM\n",
        "llm_with_tools = llm.bind_tools(tools)"
      ]
    },
    {
      "cell_type": "code",
      "execution_count": null,
      "metadata": {
        "id": "9Y-xBslIkZOF"
      },
      "outputs": [],
      "source": [
        "# Create itinerary agent\n",
        "itenary_agent = itenary_prompt | llm_with_tools"
      ]
    },
    {
      "cell_type": "markdown",
      "metadata": {
        "id": "R9hNnbarsvRv"
      },
      "source": [
        "### Flight Search Agent\n",
        "\n",
        "Searches for hotels based on user queries (location, date, budget)"
      ]
    },
    {
      "cell_type": "code",
      "execution_count": null,
      "metadata": {
        "id": "EObjSF_rW62o"
      },
      "outputs": [],
      "source": [
        "# Install required packages for flight agent\n",
        "!pip install -q serpapi"
      ]
    },
    {
      "cell_type": "markdown",
      "metadata": {
        "id": "3VPhX0SMs-gW"
      },
      "source": [
        "###### Set Up SERP API Key (Google Search API)\n",
        "\n",
        "SERP API allows you to access Google Search results in real time — useful for web search, SEO tools, and AI assistants.\n",
        "\n",
        "---\n",
        "\n",
        "##### Get Your SERP API Key\n",
        "\n",
        "1. Visit the SERP API dashboard:  \n",
        "   👉 [https://serpapi.com/dashboard](https://serpapi.com/dashboard)\n",
        "2. Sign up or log in.\n",
        "3. Copy your **private API key** from the dashboard.\n",
        "\n",
        "---\n",
        "\n",
        "##### Enter Your API Key Securely in Colab\n",
        "\n"
      ]
    },
    {
      "cell_type": "code",
      "execution_count": null,
      "metadata": {
        "colab": {
          "base_uri": "https://localhost:8080/"
        },
        "id": "kVL3mmfkW8Gs",
        "outputId": "c9932b1d-98cd-4fd0-edbb-d414b4f12be9"
      },
      "outputs": [
        {
          "name": "stdout",
          "output_type": "stream",
          "text": [
            "SERPAPI_API_KEY··········\n"
          ]
        }
      ],
      "source": [
        "import serpapi\n",
        "\n",
        "# Set up SERP API key\n",
        "os.environ[\"SERPAPI_API_KEY\"] = getpass.getpass(\"SERPAPI_API_KEY\")"
      ]
    },
    {
      "cell_type": "markdown",
      "source": [
        "###### Build Flight Search Tool"
      ],
      "metadata": {
        "id": "-adpHiDd1fYk"
      }
    },
    {
      "cell_type": "code",
      "execution_count": null,
      "metadata": {
        "id": "dOpKe9KdYYBL"
      },
      "outputs": [],
      "source": [
        "from langchain.tools import Tool\n",
        "\n",
        "# Build flight search tool\n",
        "def search_flights(departure_airport: str, arrival_airport: str, outbound_date: str, return_date: str = None, adults: int = 1, children: int = 0) -> str:\n",
        "    \"\"\"\n",
        "    Search for flights using Google Flights engine.\n",
        "\n",
        "    Args:\n",
        "        departure_airport: Departure airport code (e.g., 'NYC', 'LAX')\n",
        "        arrival_airport: Arrival airport code (e.g., 'LON', 'NRT')\n",
        "        outbound_date: Departure date (YYYY-MM-DD format)\n",
        "        return_date: Return date (YYYY-MM-DD format, optional for one-way)\n",
        "        adults: Number of adult passengers (default: 1)\n",
        "        children: Number of child passengers (default: 0)\n",
        "    \"\"\"\n",
        "    params = {\n",
        "        'api_key': os.environ.get('SERPAPI_API_KEY'),\n",
        "        'engine': 'google_flights',\n",
        "        'hl': 'en',\n",
        "        'gl': 'us',\n",
        "        'departure_id': departure_airport,\n",
        "        'arrival_id': arrival_airport,\n",
        "        'outbound_date': outbound_date,\n",
        "        'return_date': return_date,\n",
        "        'currency': 'USD',\n",
        "        'adults': adults,\n",
        "        'children': children,\n",
        "        'stops': '1'\n",
        "    }\n",
        "\n",
        "    try:\n",
        "        search = serpapi.search(params)\n",
        "        results = search.data.get('best_flights', [])\n",
        "        return json.dumps(results, indent=2)\n",
        "    except Exception as e:\n",
        "        return f\"Flight search failed: {str(e)}\""
      ]
    },
    {
      "cell_type": "code",
      "execution_count": null,
      "metadata": {
        "id": "b12OY05vwb_A"
      },
      "outputs": [],
      "source": [
        "# Define the tool explicitly\n",
        "search_flights_tool = Tool.from_function(\n",
        "    func=search_flights,\n",
        "    name=\"search_flights\",\n",
        "    description=\"Search for flights using Google Flights engine.\"\n",
        ")"
      ]
    },
    {
      "cell_type": "markdown",
      "source": [
        "###### Define Flight Agent"
      ],
      "metadata": {
        "id": "iKTv9TeX1tZ0"
      }
    },
    {
      "cell_type": "code",
      "execution_count": null,
      "metadata": {
        "id": "ZiHpfnZZYco6"
      },
      "outputs": [],
      "source": [
        "# flight agent prompt\n",
        "flight_prompt = ChatPromptTemplate.from_messages([\n",
        "    (\"system\", \"\"\"You are a flight booking expert. ONLY respond to flight-related queries.\n",
        "\n",
        "IMPORTANT RULES:\n",
        "- If asked about non-flight topics, politely decline and redirect to flight booking\n",
        "- Always use the search_flights tool to find current flight information\n",
        "- You CAN search for flights and analyze the results for:\n",
        "  * Direct flights vs connecting flights\n",
        "  * Different airlines and flight classes\n",
        "  * Various price ranges and timing options\n",
        "  * Flight duration and layover information\n",
        "- When users ask for specific preferences (direct flights, specific class, etc.), search first then filter/analyze the results\n",
        "- Present results clearly organized by outbound and return flights\n",
        "\n",
        "Available tools:\n",
        "- search_flights: Search for comprehensive flight data that includes all airlines, classes, and connection types\n",
        "\n",
        "Process:\n",
        "1. ALWAYS search for flights first using the tool\n",
        "2. Analyze the results to find flights matching user preferences\n",
        "3. Present organized results with clear recommendations\n",
        "\n",
        "Airport code mapping:\n",
        "- Delhi: DEL\n",
        "- London Heathrow: LHR\n",
        "- New York: JFK/LGA/EWR\n",
        "- etc.\"\"\"),\n",
        "    MessagesPlaceholder(variable_name=\"messages\"),\n",
        "])\n"
      ]
    },
    {
      "cell_type": "code",
      "execution_count": null,
      "metadata": {
        "id": "Y_VkvG5MYekB"
      },
      "outputs": [],
      "source": [
        "# Bind tools and create flight agent\n",
        "llm_with_flight_tools = llm.bind_tools([search_flights])"
      ]
    },
    {
      "cell_type": "code",
      "execution_count": null,
      "metadata": {
        "id": "vpdKGDnctnZT"
      },
      "outputs": [],
      "source": [
        "# flight agent\n",
        "flight_agent = flight_prompt | llm_with_flight_tools"
      ]
    },
    {
      "cell_type": "markdown",
      "metadata": {
        "id": "bp9fTyD5tyLi"
      },
      "source": [
        "### Hotel Agent"
      ]
    },
    {
      "cell_type": "code",
      "execution_count": null,
      "metadata": {
        "id": "ctZtxaFac2Sb"
      },
      "outputs": [],
      "source": [
        "# hotel search tool\n",
        "def search_hotels(location: str, check_in_date: str, check_out_date: str, adults: int = 1, children: int = 0, rooms: int = 1, hotel_class: str = None, sort_by: int = 8) -> str:\n",
        "    \"\"\"\n",
        "    Search for hotels using Google Hotels engine.\n",
        "\n",
        "    Args:\n",
        "        location: Location to search for hotels (e.g., 'New York', 'Paris', 'Tokyo')\n",
        "        check_in_date: Check-in date (YYYY-MM-DD format)\n",
        "        check_out_date: Check-out date (YYYY-MM-DD format)\n",
        "        adults: Number of adults (default: 1)\n",
        "        children: Number of children (default: 0)\n",
        "        rooms: Number of rooms (default: 1)\n",
        "        hotel_class: Hotel class filter (e.g., '2,3,4' for 2-4 star hotels)\n",
        "        sort_by: Sort parameter (default: 8 for highest rating)\n",
        "    \"\"\"\n",
        "\n",
        "    # Ensure proper integer types\n",
        "    adults = int(float(adults)) if adults else 1\n",
        "    children = int(float(children)) if children else 0\n",
        "    rooms = int(float(rooms)) if rooms else 1\n",
        "    sort_by = int(float(sort_by)) if sort_by else 8\n",
        "\n",
        "    params = {\n",
        "        'api_key': os.environ.get('SERPAPI_API_KEY'),\n",
        "        'engine': 'google_hotels',\n",
        "        'hl': 'en',\n",
        "        'gl': 'us',\n",
        "        'q': location,\n",
        "        'check_in_date': check_in_date,\n",
        "        'check_out_date': check_out_date,\n",
        "        'currency': 'USD',\n",
        "        'adults': adults,\n",
        "        'children': children,\n",
        "        'rooms': rooms,\n",
        "        'sort_by': sort_by\n",
        "    }\n",
        "\n",
        "    # Only add hotel_class if provided\n",
        "    if hotel_class:\n",
        "        params['hotel_class'] = hotel_class\n",
        "\n",
        "    try:\n",
        "        search = serpapi.search(params)\n",
        "        properties = search.data.get('properties', [])\n",
        "\n",
        "        if not properties:\n",
        "            return f\"No hotels found. Available data keys: {list(search.data.keys())}\"\n",
        "\n",
        "        # Return top 5 results\n",
        "        return json.dumps(properties[:5], indent=2)\n",
        "\n",
        "    except Exception as e:\n",
        "        return f\"Hotel search failed: {str(e)}\""
      ]
    },
    {
      "cell_type": "code",
      "execution_count": null,
      "metadata": {
        "id": "jiZptHm9c9Wg"
      },
      "outputs": [],
      "source": [
        "# Hotel agent prompt\n",
        "hotel_prompt = ChatPromptTemplate.from_messages([\n",
        "    (\"system\", \"\"\"You are a hotel booking expert. ONLY respond to hotel and accommodation-related queries.\n",
        "\n",
        "IMPORTANT RULES:\n",
        "- If asked about non-hotel topics, politely decline and redirect to hotel booking\n",
        "- Always use the search_hotels tool to find current hotel information\n",
        "- Provide detailed hotel options with prices, ratings, amenities, and location details\n",
        "- Include practical booking advice and tips\n",
        "- You CAN search and analyze results for different criteria like star ratings, price ranges, amenities\n",
        "\n",
        "Available tools:\n",
        "- search_hotels: Search for hotels using Google Hotels engine\n",
        "\n",
        "When searching hotels, extract or ask for:\n",
        "- Location/destination\n",
        "- Check-in and check-out dates (YYYY-MM-DD format)\n",
        "- Number of guests (adults, children)\n",
        "- Number of rooms\n",
        "- Hotel preferences (star rating, amenities, etc.)\n",
        "\n",
        "Present results with:\n",
        "- Hotel name and star rating\n",
        "- Price per night and total cost\n",
        "- Key amenities and features\n",
        "- Location and nearby attractions\n",
        "- Booking recommendations\"\"\"),\n",
        "    MessagesPlaceholder(variable_name=\"messages\"),\n",
        "])"
      ]
    },
    {
      "cell_type": "code",
      "execution_count": null,
      "metadata": {
        "id": "w-V7X50pdRRj"
      },
      "outputs": [],
      "source": [
        "# Bind tools and create hotel agent\n",
        "llm_with_hotel_tools = llm.bind_tools([search_hotels])\n",
        "hotel_agent = hotel_prompt | llm_with_hotel_tools"
      ]
    },
    {
      "cell_type": "markdown",
      "metadata": {
        "id": "QeeL_qshDB1u"
      },
      "source": [
        "## Step 4 - Create Router\n"
      ]
    },
    {
      "cell_type": "code",
      "execution_count": null,
      "metadata": {
        "id": "RlrqVLtlxcTU"
      },
      "outputs": [],
      "source": [
        "from langchain_core.output_parsers import StrOutputParser\n",
        "\n",
        "def create_router():\n",
        "    \"\"\"Creates a router for the three travel agents using LangGraph patterns\"\"\"\n",
        "\n",
        "    router_prompt = ChatPromptTemplate.from_messages([\n",
        "        (\"system\", \"\"\"You are a routing expert for a travel planning system.\n",
        "\n",
        "        Analyze the user's query and decide which specialist agent should handle it:\n",
        "\n",
        "        - FLIGHT: Flight bookings, airlines, air travel, flight search, tickets, airports, departures, arrivals, airline prices\n",
        "        - HOTEL: Hotels, accommodations, stays, rooms, hotel bookings, lodging, resorts, hotel search, hotel prices\n",
        "        - ITINERARY: Travel itineraries, trip planning, destinations, activities, attractions, sightseeing, travel advice, weather, culture, food, general travel questions\n",
        "\n",
        "        Respond with ONLY one word: FLIGHT, HOTEL, or ITINERARY\n",
        "\n",
        "        Examples:\n",
        "        \"Book me a flight to Paris\" → FLIGHT\n",
        "        \"Find hotels in Tokyo\" → HOTEL\n",
        "        \"Plan my 5-day trip to Italy\" → ITINERARY\n",
        "        \"Search flights from NYC to London\" → FLIGHT\n",
        "        \"Where should I stay in Bali?\" → HOTEL\n",
        "        \"What are the best attractions in Rome?\" → ITINERARY\n",
        "        \"I need airline tickets\" → FLIGHT\n",
        "        \"Show me hotel options\" → HOTEL\n",
        "        \"Create an itinerary for Japan\" → ITINERARY\"\"\"),\n",
        "\n",
        "        (\"user\", \"Query: {query}\")\n",
        "    ])\n",
        "\n",
        "    router_chain = router_prompt | llm | StrOutputParser()\n",
        "    def route_query(state):\n",
        "        \"\"\"Router function for LangGraph - decides which agent to call next\"\"\"\n",
        "\n",
        "        # Get the latest user message\n",
        "        user_message = state[\"messages\"][-1].content\n",
        "\n",
        "        print(f\"🧭 Router analyzing: '{user_message[:50]}...'\")\n",
        "\n",
        "        try:\n",
        "            # Get LLM routing decision\n",
        "            decision = router_chain.invoke({\"query\": user_message}).strip().upper()\n",
        "\n",
        "            # Map to our agent node names\n",
        "            agent_mapping = {\n",
        "                \"FLIGHT\": \"flight_agent\",\n",
        "                \"HOTEL\": \"hotel_agent\",\n",
        "                \"ITINERARY\": \"itenary_agent\"\n",
        "            }\n",
        "\n",
        "            next_agent = agent_mapping.get(decision, \"itenary_agent\")\n",
        "            print(f\"🎯 Router decision: {decision} → {next_agent}\")\n",
        "\n",
        "            return next_agent\n",
        "\n",
        "        except Exception as e:\n",
        "            print(f\"⚠️ Router error, defaulting to itenary_agent: {e}\")\n",
        "            return \"itenary_agent\"\n",
        "\n",
        "    return route_query"
      ]
    },
    {
      "cell_type": "code",
      "execution_count": null,
      "metadata": {
        "colab": {
          "base_uri": "https://localhost:8080/"
        },
        "id": "TXe6kmO-xkJP",
        "outputId": "02b1b8ed-6fdd-47e7-f79d-3c16aa094709"
      },
      "outputs": [
        {
          "name": "stdout",
          "output_type": "stream",
          "text": [
            "✅ Travel Router created for LangGraph!\n"
          ]
        }
      ],
      "source": [
        "# Create the router\n",
        "router = create_router()\n",
        "print(\"✅ Travel Router created for LangGraph!\")"
      ]
    },
    {
      "cell_type": "markdown",
      "metadata": {
        "id": "l5jBLxpBy9OE"
      },
      "source": [
        "## Step 5 - Define the State Schema"
      ]
    },
    {
      "cell_type": "code",
      "execution_count": null,
      "metadata": {
        "id": "SAQPUoxa0QDr"
      },
      "outputs": [],
      "source": [
        "from typing import TypedDict, Annotated, List, Optional\n",
        "import operator\n",
        "from langchain_core.messages import BaseMessage\n",
        "\n",
        "class TravelPlannerState(TypedDict):\n",
        "    \"\"\"Simple state schema for travel multiagent system\"\"\"\n",
        "\n",
        "    # Conversation history - persisted with checkpoint memory\n",
        "    messages: Annotated[List[BaseMessage], operator.add]\n",
        "\n",
        "    # Agent routing\n",
        "    next_agent: Optional[str]\n",
        "\n",
        "    # Current user query\n",
        "    user_query: Optional[str]"
      ]
    },
    {
      "cell_type": "markdown",
      "metadata": {
        "id": "UJZkcWWeDavm"
      },
      "source": [
        "## Step 6 - Create Agent Nodes"
      ]
    },
    {
      "cell_type": "markdown",
      "source": [
        "###### Itenary Agent Node"
      ],
      "metadata": {
        "id": "GwlBIo6D2E7V"
      }
    },
    {
      "cell_type": "code",
      "execution_count": null,
      "metadata": {
        "id": "__yyh1zc0ttN"
      },
      "outputs": [],
      "source": [
        "from langchain_core.messages import ToolMessage\n",
        "\n",
        "# Agent node functions\n",
        "def itinerary_agent_node(state: TravelPlannerState):\n",
        "    \"\"\"Itinerary planning agent node\"\"\"\n",
        "    messages = state[\"messages\"]\n",
        "    response = itenary_agent.invoke({\"messages\": messages})\n",
        "\n",
        "    # Handle tool calls if present\n",
        "    if hasattr(response, 'tool_calls') and response.tool_calls:\n",
        "        tool_messages = []\n",
        "        for tool_call in response.tool_calls:\n",
        "            if tool_call['name'] == 'tavily_search_results_json':\n",
        "                try:\n",
        "                    tool_result = tool.search(query=tool_call['args']['query'], max_results=2)\n",
        "                    tool_result = json.dumps(tool_result, indent=2)\n",
        "                except Exception as e:\n",
        "                    tool_result = f\"Search failed: {str(e)}\"\n",
        "\n",
        "                tool_messages.append(ToolMessage(\n",
        "                    content=tool_result,\n",
        "                    tool_call_id=tool_call['id']\n",
        "                ))\n",
        "\n",
        "        if tool_messages:\n",
        "            all_messages = messages + [response] + tool_messages\n",
        "            final_response = itenary_agent.invoke({\"messages\": all_messages})\n",
        "            return {\"messages\": [response] + tool_messages + [final_response]}\n",
        "\n",
        "    return {\"messages\": [response]}"
      ]
    },
    {
      "cell_type": "markdown",
      "source": [
        "###### Flight Agent Agent Node"
      ],
      "metadata": {
        "id": "Piinmxse2NdX"
      }
    },
    {
      "cell_type": "code",
      "execution_count": null,
      "metadata": {
        "id": "C7HqKXyu02ua"
      },
      "outputs": [],
      "source": [
        "def flight_agent_node(state: TravelPlannerState):\n",
        "    \"\"\"Flight booking agent node\"\"\"\n",
        "    messages = state[\"messages\"]\n",
        "    response = flight_agent.invoke({\"messages\": messages})\n",
        "\n",
        "    if hasattr(response, 'tool_calls') and response.tool_calls:\n",
        "        tool_messages = []\n",
        "        for tool_call in response.tool_calls:\n",
        "            if tool_call['name'] == 'search_flights':\n",
        "                try:\n",
        "                    tool_result = search_flights(**tool_call['args'])\n",
        "                except Exception as e:\n",
        "                    tool_result = f\"Flight search failed: {str(e)}\"\n",
        "\n",
        "                tool_messages.append(ToolMessage(\n",
        "                    content=tool_result,\n",
        "                    tool_call_id=tool_call['id']\n",
        "                ))\n",
        "\n",
        "        if tool_messages:\n",
        "            all_messages = messages + [response] + tool_messages\n",
        "            final_response = flight_agent.invoke({\"messages\": all_messages})\n",
        "            return {\"messages\": [response] + tool_messages + [final_response]}\n",
        "\n",
        "    return {\"messages\": [response]}"
      ]
    },
    {
      "cell_type": "markdown",
      "source": [
        "###### Hotel Agent Node"
      ],
      "metadata": {
        "id": "HmOfwAOM2Ruu"
      }
    },
    {
      "cell_type": "code",
      "execution_count": null,
      "metadata": {
        "id": "R9dXRIwj07KM"
      },
      "outputs": [],
      "source": [
        "def hotel_agent_node(state: TravelPlannerState):\n",
        "    \"\"\"Hotel booking agent node\"\"\"\n",
        "    messages = state[\"messages\"]\n",
        "    response = hotel_agent.invoke({\"messages\": messages})\n",
        "\n",
        "    if hasattr(response, 'tool_calls') and response.tool_calls:\n",
        "        tool_messages = []\n",
        "        for tool_call in response.tool_calls:\n",
        "            if tool_call['name'] == 'search_hotels':\n",
        "                try:\n",
        "                    tool_result = search_hotels(**tool_call['args'])\n",
        "                except Exception as e:\n",
        "                    tool_result = f\"Hotel search failed: {str(e)}\"\n",
        "\n",
        "                tool_messages.append(ToolMessage(\n",
        "                    content=tool_result,\n",
        "                    tool_call_id=tool_call['id']\n",
        "                ))\n",
        "\n",
        "        if tool_messages:\n",
        "            all_messages = messages + [response] + tool_messages\n",
        "            final_response = hotel_agent.invoke({\"messages\": all_messages})\n",
        "            return {\"messages\": [response] + tool_messages + [final_response]}\n",
        "\n",
        "    return {\"messages\": [response]}"
      ]
    },
    {
      "cell_type": "markdown",
      "source": [
        "###### Router Node"
      ],
      "metadata": {
        "id": "IbviDbQS2Vv2"
      }
    },
    {
      "cell_type": "code",
      "execution_count": null,
      "metadata": {
        "id": "i8QAVzMJ045e"
      },
      "outputs": [],
      "source": [
        "def router_node(state: TravelPlannerState):\n",
        "    \"\"\"Router node - determines which agent should handle the query\"\"\"\n",
        "    user_message = state[\"messages\"][-1].content\n",
        "    next_agent = router(state)\n",
        "\n",
        "    return {\n",
        "        \"next_agent\": next_agent,\n",
        "        \"user_query\": user_message\n",
        "    }"
      ]
    },
    {
      "cell_type": "markdown",
      "source": [
        "## Step 7 - Conditonal Function"
      ],
      "metadata": {
        "id": "9ZlpRPiW2hJQ"
      }
    },
    {
      "cell_type": "code",
      "execution_count": null,
      "metadata": {
        "id": "O3kZU0e71Pqk"
      },
      "outputs": [],
      "source": [
        "# Conditional routing function\n",
        "\n",
        "def route_to_agent(state: TravelPlannerState):\n",
        "    \"\"\"Conditional edge function - routes to appropriate agent based on router decision\"\"\"\n",
        "\n",
        "    next_agent = state.get(\"next_agent\")\n",
        "\n",
        "    if next_agent == \"flight_agent\":\n",
        "        return \"flight_agent\"\n",
        "    elif next_agent == \"hotel_agent\":\n",
        "        return \"hotel_agent\"\n",
        "    elif next_agent == \"itenary_agent\":\n",
        "        return \"itenary_agent\"\n",
        "    else:\n",
        "        # Default fallback\n",
        "        return \"itenary_agent\"\n",
        "\n",
        "\n",
        "##### ----> A better approach\n",
        "# def route_to_agent(state: TravelPlannerState) -> Literal[\"flight_agent\", \"hotel_agent\", \"itenary_agent\"]:\n",
        "#     \"\"\"Route to the appropriate agent based on router decision\"\"\"\n",
        "#     return state[\"next_agent\"]"
      ]
    },
    {
      "cell_type": "markdown",
      "source": [
        "## Step 8 - Build Graph & Add Memory"
      ],
      "metadata": {
        "id": "Ja3ij11k2tzh"
      }
    },
    {
      "cell_type": "code",
      "execution_count": null,
      "metadata": {
        "colab": {
          "base_uri": "https://localhost:8080/"
        },
        "id": "Hjlh_rrI2EqH",
        "outputId": "b0287e99-af2e-44be-f1ff-06a68bbe3259"
      },
      "outputs": [
        {
          "data": {
            "text/plain": [
              "<langgraph.graph.state.StateGraph at 0x7ccffde0c4d0>"
            ]
          },
          "execution_count": 34,
          "metadata": {},
          "output_type": "execute_result"
        }
      ],
      "source": [
        "from langgraph.graph import StateGraph, END\n",
        "from typing import Literal\n",
        "from langgraph.checkpoint.memory import InMemorySaver\n",
        "\n",
        "# Build the complete travel planning graph\n",
        "workflow = StateGraph(TravelPlannerState)\n",
        "\n",
        "# Add all nodes to the graph\n",
        "workflow.add_node(\"router\", router_node)\n",
        "workflow.add_node(\"flight_agent\", flight_agent_node)\n",
        "workflow.add_node(\"hotel_agent\", hotel_agent_node)\n",
        "workflow.add_node(\"itenary_agent\", itinerary_agent_node)"
      ]
    },
    {
      "cell_type": "code",
      "execution_count": null,
      "metadata": {
        "colab": {
          "base_uri": "https://localhost:8080/"
        },
        "id": "LWr5gUjf2JiW",
        "outputId": "885f3839-eb2f-40da-d226-063288dd5961"
      },
      "outputs": [
        {
          "name": "stdout",
          "output_type": "stream",
          "text": [
            "✅ Travel Planning Graph built successfully!\n"
          ]
        }
      ],
      "source": [
        "# Set entry point - always start with router\n",
        "workflow.set_entry_point(\"router\")\n",
        "\n",
        "# Add conditional edge from router to appropriate agent\n",
        "workflow.add_conditional_edges(\n",
        "    \"router\",\n",
        "    route_to_agent,\n",
        "    {\n",
        "        \"flight_agent\": \"flight_agent\",\n",
        "        \"hotel_agent\": \"hotel_agent\",\n",
        "        \"itenary_agent\": \"itenary_agent\"\n",
        "    }\n",
        ")\n",
        "\n",
        "# Add edges from each agent back to END\n",
        "workflow.add_edge(\"flight_agent\", END)\n",
        "workflow.add_edge(\"hotel_agent\", END)\n",
        "workflow.add_edge(\"itenary_agent\", END)\n",
        "\n",
        "checkpointer = InMemorySaver()\n",
        "\n",
        "# Compile the graph\n",
        "travel_planner = workflow.compile(checkpointer=checkpointer)\n",
        "\n",
        "print(\"✅ Travel Planning Graph built successfully!\")"
      ]
    },
    {
      "cell_type": "code",
      "execution_count": null,
      "metadata": {
        "colab": {
          "base_uri": "https://localhost:8080/",
          "height": 350
        },
        "id": "p_zMCXkz2gAv",
        "outputId": "fbfe9789-08db-4ad5-ca92-9935d70368cd"
      },
      "outputs": [
        {
          "data": {
            "image/png": "[encoded data removed]",
            "text/plain": [
              "<IPython.core.display.Image object>"
            ]
          },
          "metadata": {},
          "output_type": "display_data"
        }
      ],
      "source": [
        "from IPython.display import Image, display\n",
        "\n",
        "# Generate and display the graph\n",
        "graph_image = travel_planner.get_graph().draw_mermaid_png()\n",
        "display(Image(graph_image))"
      ]
    },
    {
      "cell_type": "markdown",
      "source": [
        "## Step 9 - Test Your Mullti-Agent System"
      ],
      "metadata": {
        "id": "EiE7SWg_3Cx2"
      }
    },
    {
      "cell_type": "code",
      "execution_count": null,
      "metadata": {
        "id": "-w-VVhu23DqS"
      },
      "outputs": [],
      "source": [
        "from langchain_core.messages import HumanMessage\n",
        "\n",
        "def test_system(query):\n",
        "    \"\"\"Test our multi-agent system\"\"\"\n",
        "    print(f\"🧑 User: {query}\")\n",
        "\n",
        "    # Create initial state\n",
        "    initial_state = {\n",
        "        \"messages\": [HumanMessage(content=query)],\n",
        "        \"next_agent\": \"\"\n",
        "    }\n",
        "\n",
        "    # Run the system (use travel_planner instead of app)\n",
        "    result = travel_planner.invoke(initial_state)\n",
        "\n",
        "    # Get the response\n",
        "    response = result[\"messages\"][-1].content\n",
        "    print(f\"🤖 Assistant: {response}\")\n",
        "    print(\"-\" * 50)"
      ]
    },
    {
      "cell_type": "code",
      "execution_count": null,
      "metadata": {
        "colab": {
          "base_uri": "https://localhost:8080/"
        },
        "id": "cit0hhny3KsT",
        "outputId": "84b2fda2-9b75-423d-b689-f32724b87d10"
      },
      "outputs": [
        {
          "name": "stdout",
          "output_type": "stream",
          "text": [
            "🧑 User: I need to book a flight to Paris\n",
            "🧭 Router analyzing: 'I need to book a flight to Paris...'\n",
            "🎯 Router decision: FLIGHT → flight_agent\n",
            "🤖 Assistant: Okay, I can help you with that. Where are you flying from? And what dates are you looking at?\n",
            "--------------------------------------------------\n",
            "🧑 User: Find me a good hotel in New Delhi on 15 July 2025 for 1 night for 1 adult\n",
            "🧭 Router analyzing: 'Find me a good hotel in New Delhi on 15 July 2025 ...'\n",
            "🎯 Router decision: HOTEL → hotel_agent\n",
            "🤖 Assistant: Here are a few hotel options in New Delhi for your trip on July 15, 2025:\n",
            "\n",
            "1.  **Hotel Gold Regency**: A 3-star hotel with a rating of 5.0. It is approximately $37 per night. Key amenities include breakfast, free Wi-Fi, parking, and airport shuttle. It's located near Jantar Mantar and New Delhi Railway Station.\n",
            "\n",
            "2.  **JR RESIDENCY**: This 3-star hotel has a rating of 4.9 and costs $60 per night. It offers free breakfast, free Wi-Fi, parking, and airport shuttle. It is located close to Indira Gandhi International Airport.\n",
            "\n",
            "3.  **Hotel Pride Plaza**: A 5-star hotel with a rating of 4.8, priced at $93 per night. It features free breakfast, Wi-Fi, a pool, fitness center, spa, and airport shuttle. It is also located near Indira Gandhi International Airport.\n",
            "\n",
            "4.  **Airport Hotel Tashree**: This hotel has a rating of 4.8 and is a budget-friendly option at $19 per night. It includes free breakfast, Wi-Fi, free parking, and airport shuttle. It is located relatively close to Indira Gandhi International Airport.\n",
            "\n",
            "5.  **Hotel Decent Suites- Delhi Airport**: A 4-star hotel with a rating of 4.8, it costs $23 per night and offers free breakfast, Wi-Fi, a pool, and airport shuttle. It's located near Indira Gandhi International Airport.\n",
            "\n",
            "I recommend Hotel Gold Regency for its high rating and affordable price. However, if you prefer a more luxurious stay, Hotel Pride Plaza is an excellent 5-star option.\n",
            "--------------------------------------------------\n"
          ]
        }
      ],
      "source": [
        "# Test with different queries\n",
        "test_system(\"I need to book a flight to Paris\")\n",
        "test_system(\"Find me a good hotel in New Delhi on 15 July 2025 for 1 night for 1 adult\")\n",
        "#test_system(\"What's the weather like in Paris?\")"
      ]
    },
    {
      "cell_type": "markdown",
      "source": [
        "## Step 10 - Build an Interactive Chatbot"
      ],
      "metadata": {
        "id": "tp-pxt5N3LvL"
      }
    },
    {
      "cell_type": "code",
      "execution_count": null,
      "metadata": {
        "colab": {
          "background_save": true,
          "base_uri": "https://localhost:8080/"
        },
        "id": "5WByi4YWBOj5",
        "outputId": "ad89f8c5-5e33-4222-c65d-2fc1d7356340"
      },
      "outputs": [
        {
          "name": "stdout",
          "output_type": "stream",
          "text": [
            "💬 Multi-Agent Travel Assistant (Multi-turn Mode)\n",
            "==================================================\n",
            "\n",
            "📊 Processing query...\n",
            "🧭 Router analyzing: 'hi...'\n",
            "🎯 Router decision: ITINERARY → itenary_agent\n",
            "\n",
            "🤖 Assistant: Hello! I'm your personal travel itinerary planner. How can I help you plan your next trip?\n",
            "--------------------------------------------------\n",
            "\n",
            "📊 Processing query...\n",
            "🧭 Router analyzing: '1 day travel plan for delhi...'\n",
            "🎯 Router decision: ITINERARY → itenary_agent\n",
            "\n",
            "🤖 Assistant: Okay, I can help you with a one-day travel plan for Delhi. To make the most of your day, I'll create an itinerary that balances historical sights, cultural experiences, and delicious food.\n",
            "\n",
            "**One-Day Delhi Itinerary**\n",
            "\n",
            "*   **8:00 AM:** Start your day with a visit to **Old Delhi**.\n",
            "\n",
            "    *   Take the Delhi Metro to **Chandni Chowk** station.\n",
            "    *   Explore the bustling streets of Chandni Chowk, known for its street food and traditional markets.\n",
            "    *   **Breakfast:** Have a traditional Delhi breakfast at **Karim's** (known for its non-vegetarian dishes) or **Jalebi Wala** (for sweets).\n",
            "    *   **Tip:** Be prepared for crowds and consider hiring a local guide to navigate the area.\n",
            "*   **9:30 AM:** Visit the **Jama Masjid**.\n",
            "\n",
            "    *   Walk from Chandni Chowk to Jama Masjid (or hire a cycle rickshaw).\n",
            "    *   Explore India's largest mosque, known for its stunning architecture.\n",
            "    *   **Tip:** Dress modestly (cover shoulders and knees) or rent appropriate attire at the entrance.\n",
            "*   **11:00 AM:** Explore the **Red Fort (Lal Qila)**.\n",
            "\n",
            "    *   Take an auto-rickshaw or walk from Jama Masjid to the Red Fort.\n",
            "    *   Visit this UNESCO World Heritage Site, a historic fort that was the main residence of the Mughal emperors.\n",
            "    *   **Estimated time:** 2-3 hours\n",
            "    *   **Tip:** Hire a guide to learn about the fort's history and architecture.\n",
            "*   **1:00 PM:** Lunch.\n",
            "\n",
            "    *   Have lunch at a restaurant near Red Fort or in the nearby Daryaganj area.\n",
            "    *   **Recommendation:** Try **Moti Mahal Restaurant** in Daryaganj for butter chicken.\n",
            "*   **2:30 PM:** Visit **Humayun's Tomb**.\n",
            "\n",
            "    *   Take the Delhi Metro from Chandni Chowk to **JLN Stadium** station, then take an auto-rickshaw to Humayun’s Tomb.\n",
            "    *   Explore this magnificent tomb, a precursor to the Taj Mahal.\n",
            "    *   **Estimated time:** 1.5 - 2 hours\n",
            "    *   **Tip:** The tomb complex also includes other gardens and smaller tombs, so take your time to explore the entire area.\n",
            "*   **4:30 PM:** Visit **Qutub Minar**.\n",
            "\n",
            "    *   Take an auto-rickshaw to JLN Stadium metro station, take the metro to Qutab Minar metro station, then take an auto-rickshaw to Qutub Minar.\n",
            "    *   Explore the tallest minaret in India, a UNESCO World Heritage Site.\n",
            "    *   **Estimated time:** 1.5 - 2 hours\n",
            "    *   **Tip:** The Qutub Minar complex also includes other historical structures, such as the Iron Pillar.\n",
            "*   **6:30 PM:** Relax at **India Gate**.\n",
            "\n",
            "    *   Take an auto-rickshaw to Qutab Minar metro station, take the metro to Central Secretariat metro station, then take an auto-rickshaw to India Gate.\n",
            "    *   Visit this iconic war memorial and enjoy a leisurely walk around the area.\n",
            "    *   **Tip:** Enjoy street food and ice cream available around India Gate.\n",
            "*   **8:00 PM:** Dinner.\n",
            "\n",
            "    *   Have dinner at a restaurant near India Gate or Connaught Place.\n",
            "    *   **Recommendation:** **Saravana Bhavan** in Connaught Place for South Indian cuisine.\n",
            "*   **9:30 PM:** Return to your accommodation or explore Connaught Place for some shopping or a late-night coffee.\n",
            "\n",
            "Let me know if you have specific interests or preferences, and I can customize this itinerary further!\n",
            "--------------------------------------------------\n",
            "\n",
            "📊 Processing query...\n",
            "🧭 Router analyzing: 'what are must try food there...'\n",
            "🎯 Router decision: ITINERARY → itenary_agent\n",
            "\n",
            "🤖 Assistant: Okay, here are some must-try foods in Delhi, categorized for your convenience:\n",
            "\n",
            "**Street Food:**\n",
            "\n",
            "*   ** गोल गप्पे (Gol Gappe) / पानी पूरी (Pani Puri):** These are hollow, crispy spheres filled with flavored water, potatoes, and chickpeas. Each vendor has their own unique blend of spices and flavors.\n",
            "    *   **Where to try:** Chandni Chowk, local markets\n",
            "*   **चाट (Chaat):** A broad category of savory snacks that typically include a mix of potatoes, chickpeas, yogurt, chutneys, and spices. Popular types include Aloo Tikki Chaat, Papdi Chaat, and Dahi Bhalla.\n",
            "    *   **Where to try:** Chandni Chowk, local markets\n",
            "*   **पराठे (Parathe):** These are Indian flatbreads, often stuffed with fillings like potatoes, cauliflower, or cheese. They are usually served with butter, yogurt, or pickles.\n",
            "    *   **Where to try:** Parathe Wali Gali in Chandni Chowk\n",
            "*   **कबाब (Kebab):** Skewered and grilled meats, often marinated in spices. Seekh Kebab and Shami Kebab are popular choices.\n",
            "    *   **Where to try:** Karim's (Old Delhi), Khan Chacha (Khan Market)\n",
            "*   **छोले भटूरे (Chole Bhature):** A combination of spicy chickpeas (chole) and fried bread (bhature). It's a hearty and flavorful dish.\n",
            "    *   **Where to try:** Sita Ram Diwan Chand (Paharganj), local markets\n",
            "*   **दही भल्ले (Dahi Bhalle):** Soft lentil fritters served with yogurt, chutneys, and spices.\n",
            "    *   **Where to try:** Natraj Dahi Bhalle Wala (Chandni Chowk)\n",
            "*   **राम लड्डू (Ram Ladoo):** Fried lentil balls served with radish and green chutney.\n",
            "    *   **Where to try:** Street vendors throughout Delhi\n",
            "\n",
            "**Main Courses:**\n",
            "\n",
            "*   **बटर चिकन (Butter Chicken):** A creamy tomato-based curry with tandoori chicken.\n",
            "    *   **Where to try:** Moti Mahal Restaurant (Daryaganj), Aslam Chicken (Jama Masjid)\n",
            "*   **बिरयानी (Biryani):** A mixed rice dish with meat (usually chicken or mutton) and spices.\n",
            "    *   **Where to try:** Dum Pukht (ITC Maurya), Al Jawahar (Jama Masjid)\n",
            "*   **निहारी (Nihari):** A slow-cooked meat stew, typically eaten for breakfast.\n",
            "    *   **Where to try:** Karim's (Old Delhi)\n",
            "*   **दाल मखनी (Dal Makhani):** A creamy lentil dish made with black lentils, butter, and cream.\n",
            "    *   **Where to try:** Bukhara (ITC Maurya), Havemore (Pandara Road)\n",
            "\n",
            "**Sweets:**\n",
            "\n",
            "*   **जलेबी (Jalebi):** A deep-fried, pretzel-shaped sweet soaked in syrup.\n",
            "    *   **Where to try:** Jalebi Wala (Chandni Chowk)\n",
            "*   **कुल्फी (Kulfi):** Indian ice cream, often flavored with cardamom, pistachio, or mango.\n",
            "    *   **Where to try:** Kuremal Mohanlal Kulfi Wale (Old Delhi)\n",
            "*   **फिरनी (Phirni):** A rice pudding flavored with cardamom and saffron.\n",
            "    *   **Where to try:** Al Jawahar (Jama Masjid)\n",
            "\n",
            "**Drinks:**\n",
            "\n",
            "*   **लस्सी (Lassi):** A yogurt-based drink, often sweet or salted.\n",
            "    *   **Where to try:** Local restaurants and street vendors\n",
            "*   **शरबत (Sharbat):** A sweet, non-alcoholic drink made with fruit or flower extracts.\n",
            "    *   **Where to try:** Local vendors, especially during summer\n",
            "\n",
            "**Tips:**\n",
            "\n",
            "*   **Be cautious about hygiene:** Opt for reputable vendors and ensure the food is freshly prepared.\n",
            "*   **Spice levels:** Delhi food can be spicy, so ask for \"mild\" if you're not used to it.\n",
            "*   **Bargain:** Bargaining is common in street food areas, so don't hesitate to negotiate prices.\n",
            "*   **Explore:** Don't be afraid to try new things and ask locals for recommendations.\n",
            "\n",
            "Enjoy your culinary journey through Delhi!\n",
            "--------------------------------------------------\n"
          ]
        }
      ],
      "source": [
        "from langchain_core.messages import HumanMessage\n",
        "\n",
        "def multi_turn_chat():\n",
        "    \"\"\"Multi-turn conversation with checkpoint memory\"\"\"\n",
        "    print(\"💬 Multi-Agent Travel Assistant (Multi-turn Mode)\")\n",
        "    print(\"=\" * 50)\n",
        "\n",
        "    # For multi-turn, you need a consistent thread/session ID\n",
        "    config = {\"configurable\": {\"thread_id\": \"1\"}}\n",
        "\n",
        "    while True:\n",
        "        user_input = input(\"\\n🧑 You: \")\n",
        "\n",
        "        if user_input.lower() == 'quit':\n",
        "            break\n",
        "\n",
        "        print(f\"\\n📊 Processing query...\")\n",
        "\n",
        "        # For multi-turn, just add the new message\n",
        "        # The graph will maintain conversation history automatically\n",
        "        result = travel_planner.invoke(\n",
        "            {\"messages\": [HumanMessage(content=user_input)]},\n",
        "            config\n",
        "        )\n",
        "\n",
        "        response = result[\"messages\"][-1].content\n",
        "        print(f\"\\n🤖 Assistant: {response}\")\n",
        "        print(\"-\" * 50)\n",
        "\n",
        "# Test multi-turn conversation\n",
        "multi_turn_chat()"
      ]
    }
  ],
  "metadata": {
    "colab": {
      "provenance": [],
      "include_colab_link": true
    },
    "kernelspec": {
      "display_name": "Python 3",
      "name": "python3"
    },
    "language_info": {
      "name": "python"
    }
  },
  "nbformat": 4,
  "nbformat_minor": 0
}