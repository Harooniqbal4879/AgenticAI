{
  "nbformat": 4,
  "nbformat_minor": 0,
  "metadata": {
    "colab": {
      "provenance": [],
      "authorship_tag": "ABX9TyNzsOAFuK0dspCrv6QSaFca",
      "include_colab_link": true
    },
    "kernelspec": {
      "name": "python3",
      "display_name": "Python 3"
    },
    "language_info": {
      "name": "python"
    }
  },
  "cells": [
    {
      "cell_type": "markdown",
      "metadata": {
        "id": "view-in-github",
        "colab_type": "text"
      },
      "source": [
        "<a href=\"https://colab.research.google.com/github/Harooniqbal4879/AgenticAI/blob/main/Medical_Care_Plan.ipynb\" target=\"_parent\"><img src=\"https://colab.research.google.com/assets/colab-badge.svg\" alt=\"Open In Colab\"/></a>"
      ]
    },
    {
      "cell_type": "markdown",
      "source": [
        "# MCP (Medical Care Plan) Sample Project Notebook"
      ],
      "metadata": {
        "id": "BqpMIdGcj5mn"
      }
    },
    {
      "cell_type": "code",
      "execution_count": null,
      "metadata": {
        "id": "1TbxUzjOj2Zd"
      },
      "outputs": [],
      "source": [
        "# MCP (Medical Care Plan) Sample Project - Colab Notebook\n",
        "\n",
        "# This sample project demonstrates how to structure a simplified Medical Care Plan (MCP)\n",
        "# system using Python. You can use this as a starting point for care management tools.\n",
        "\n",
        "# Features:\n",
        "# - Patient data input and storage\n",
        "# - Basic health plan generator\n",
        "# - Simulated rule-based logic for care guidance\n",
        "\n",
        "# ────────────────────────────────────────────────────────\n",
        "\n",
        "# Sample Patient Record\n",
        "patient = {\n",
        "    \"name\": \"John Doe\",\n",
        "    \"age\": 68,\n",
        "    \"gender\": \"Male\",\n",
        "    \"conditions\": [\"Diabetes\", \"Hypertension\"],\n",
        "    \"medications\": [\"Metformin\", \"Lisinopril\"],\n",
        "    \"last_visit\": \"2024-12-10\"\n",
        "}\n",
        "print(\"📋 Patient Profile:\", patient)\n",
        "\n",
        "# ────────────────────────────────────────────────────────\n",
        "\n",
        "# Generate a Simple Medical Care Plan Based on Rules\n",
        "def generate_care_plan(patient):\n",
        "    plan = []\n",
        "\n",
        "    if \"Diabetes\" in patient[\"conditions\"]:\n",
        "        plan.append(\" Schedule quarterly HbA1c test\")\n",
        "        plan.append(\" Recommend diabetic diet & foot care education\")\n",
        "\n",
        "    if \"Hypertension\" in patient[\"conditions\"]:\n",
        "        plan.append(\" Monitor BP weekly\")\n",
        "        plan.append(\" Low-sodium diet and physical activity\")\n",
        "\n",
        "    plan.append(f\" Next visit scheduled in 3 months from {patient['last_visit']}\")\n",
        "    return plan\n",
        "\n",
        "care_plan = generate_care_plan(patient)\n",
        "\n",
        "print(\" Medical Care Plan:\")\n",
        "for item in care_plan:\n",
        "    print(\"-\", item)\n",
        "\n",
        "# ────────────────────────────────────────────────────────\n",
        "\n",
        "\n"
      ]
    },
    {
      "cell_type": "code",
      "source": [
        "# Export care plan to a text file (optional)\n",
        "with open(\"care_plan.txt\", \"w\") as f:\n",
        "    f.write(f\"Medical Care Plan for {patient['name']}\\n\")\n",
        "    for item in care_plan:\n",
        "        f.write(f\"- {item}\\n\")\n",
        "\n",
        "print(\" Care plan exported to 'care_plan.txt'\")"
      ],
      "metadata": {
        "id": "AjoqaNjDkhsF"
      },
      "execution_count": null,
      "outputs": []
    }
  ]
}