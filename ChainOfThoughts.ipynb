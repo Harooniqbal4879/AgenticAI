{
  "nbformat": 4,
  "nbformat_minor": 0,
  "metadata": {
    "colab": {
      "provenance": [],
      "authorship_tag": "ABX9TyPXtqt1kKSOLyCBeVsvg50u",
      "include_colab_link": true
    },
    "kernelspec": {
      "name": "python3",
      "display_name": "Python 3"
    },
    "language_info": {
      "name": "python"
    }
  },
  "cells": [
    {
      "cell_type": "markdown",
      "metadata": {
        "id": "view-in-github",
        "colab_type": "text"
      },
      "source": [
        "<a href=\"https://colab.research.google.com/github/Harooniqbal4879/AgenticAI/blob/main/ChainOfThoughts.ipynb\" target=\"_parent\"><img src=\"https://colab.research.google.com/assets/colab-badge.svg\" alt=\"Open In Colab\"/></a>"
      ]
    },
    {
      "cell_type": "code",
      "execution_count": 3,
      "metadata": {
        "colab": {
          "base_uri": "https://localhost:8080/",
          "height": 347
        },
        "id": "BzkVqS59Lq6N",
        "outputId": "d85a27db-5a46-4903-dd54-6615278e9558"
      },
      "outputs": [
        {
          "output_type": "stream",
          "name": "stdout",
          "text": [
            "\n",
            "--- Chain-of-Thought Prompting Example ---\n",
            "Prompt:\n",
            "\n",
            "    Q: Sarah has a budget of $50. She wants to buy a book that costs $15 and a board game that costs $25. Does she have enough money? If so, how much will she have left?\n",
            "    A: Sarah wants to buy a book for $15 and a board game for $25.\n",
            "    The total cost of the items is $15 + $25 = $40.\n",
            "    Her budget is $50.\n",
            "    Since $40 is less than or equal to $50, she has enough money.\n",
            "    The money left will be $50 - $40 = $10.\n",
            "\n",
            "    Q: A baker made 3 batches of cookies. Each batch had 12 cookies. He sold 20 cookies. How many cookies does he have left?\n",
            "    A:\n",
            "    \n",
            "Response: The baker made 3 batches of cookies, with 12 cookies in each batch.\n",
            "The total number of cookies is 3 * 12 = 36 cookies.\n",
            "He sold 20 cookies.\n",
            "The number of cookies left is 36 - 20 = 16 cookies.\n",
            "\n"
          ]
        }
      ],
      "source": [
        "# Install the required library if not already installed\n",
        "!pip install -q -U google-generativeai\n",
        "\n",
        "import google.generativeai as genai\n",
        "from google.colab import userdata\n",
        "\n",
        "def chain_of_thought_prompting_example():\n",
        "    \"\"\"Demonstrates chain-of-thought prompting with the Gemini API.\"\"\"\n",
        "    prompt = \"\"\"\n",
        "    Q: Sarah has a budget of $50. She wants to buy a book that costs $15 and a board game that costs $25. Does she have enough money? If so, how much will she have left?\n",
        "    A: Sarah wants to buy a book for $15 and a board game for $25.\n",
        "    The total cost of the items is $15 + $25 = $40.\n",
        "    Her budget is $50.\n",
        "    Since $40 is less than or equal to $50, she has enough money.\n",
        "    The money left will be $50 - $40 = $10.\n",
        "\n",
        "    Q: A baker made 3 batches of cookies. Each batch had 12 cookies. He sold 20 cookies. How many cookies does he have left?\n",
        "    A:\n",
        "    \"\"\"\n",
        "    print(\"\\n--- Chain-of-Thought Prompting Example ---\")\n",
        "\n",
        "    # Access your API key from Google Colab secrets\n",
        "    # Set your GOOGLE_API_KEY in the \"Secrets\" tab of the left panel\n",
        "    GOOGLE_API_KEY = userdata.get('GOOGLE_API_KEY')\n",
        "    genai.configure(api_key=GOOGLE_API_KEY)\n",
        "\n",
        "    # Initialize the generative model\n",
        "    client = genai.GenerativeModel(\"gemini-2.0-flash\")\n",
        "\n",
        "    response = client.generate_content(contents=prompt)\n",
        "    print(f\"Prompt:\\n{prompt}\")\n",
        "    print(f\"Response: {response.text}\")\n",
        "\n",
        "# Call the function to run the example\n",
        "chain_of_thought_prompting_example()"
      ]
    }
  ]
}