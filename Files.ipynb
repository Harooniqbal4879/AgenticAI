{
  "nbformat": 4,
  "nbformat_minor": 0,
  "metadata": {
    "colab": {
      "provenance": [],
      "authorship_tag": "ABX9TyOVBJa/Q9pF+xj1ZS2Y2kIc",
      "include_colab_link": true
    },
    "kernelspec": {
      "name": "python3",
      "display_name": "Python 3"
    },
    "language_info": {
      "name": "python"
    }
  },
  "cells": [
    {
      "cell_type": "markdown",
      "metadata": {
        "id": "view-in-github",
        "colab_type": "text"
      },
      "source": [
        "<a href=\"https://colab.research.google.com/github/Harooniqbal4879/AgenticAI/blob/main/Files.ipynb\" target=\"_parent\"><img src=\"https://colab.research.google.com/assets/colab-badge.svg\" alt=\"Open In Colab\"/></a>"
      ]
    },
    {
      "cell_type": "code",
      "execution_count": null,
      "metadata": {
        "id": "enrDwLImgnbn"
      },
      "outputs": [],
      "source": [
        "from openai import OpenAI\n",
        "import os\n",
        "\n",
        "\n",
        "class FileStore:\n",
        "    def __init__(self):\n",
        "        self.client = OpenAI()\n",
        "\n",
        "    def get_all(self):\n",
        "        file_stores = self.client.files.list()\n",
        "        return file_stores\n",
        "    def upload(self, file_path):\n",
        "        with open(file_path, \"rb\") as file:\n",
        "            response = self.client.files.create(file=file, purpose='user_data')\n",
        "        return response\n",
        "\n",
        "\n",
        "if __name__ == \"__main__\":\n",
        "    file_store = FileStore()\n",
        "    file_stores = file_store.get_all()\n",
        "    print(file_stores)\n",
        "    # Example of uploading a file\n",
        "    # file_path = os.path.join(os.path.dirname(__file__), \"CICD_with_Docker_Kubernetes_Semaphore.pdf\")\n",
        "    # response = file_store.upload(file_path)\n",
        "    # print(response)"
      ]
    },
    {
      "cell_type": "code",
      "source": [],
      "metadata": {
        "id": "PLV7hupKhAK3"
      },
      "execution_count": null,
      "outputs": []
    }
  ]
}